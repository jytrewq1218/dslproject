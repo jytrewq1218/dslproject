{
 "cells": [
  {
   "cell_type": "markdown",
   "metadata": {
    "id": "JL3Meu8Gc9m6"
   },
   "source": [
    "<h1>Step 1: 데이터셋 준비하기</h1>"
   ]
  },
  {
   "cell_type": "code",
   "execution_count": 21,
   "metadata": {
    "id": "_XaPgFYpc9m_"
   },
   "outputs": [],
   "source": [
    "import numpy as np\n",
    "import pandas as pd\n",
    "import re"
   ]
  },
  {
   "cell_type": "code",
   "execution_count": 23,
   "metadata": {
    "colab": {
     "base_uri": "https://localhost:8080/",
     "height": 1000
    },
    "executionInfo": {
     "elapsed": 4329,
     "status": "ok",
     "timestamp": 1636222478298,
     "user": {
      "displayName": "‍장윤태(학부학생/이과대학 수학)",
      "photoUrl": "https://lh3.googleusercontent.com/a/default-user=s64",
      "userId": "16992420276818568450"
     },
     "user_tz": -540
    },
    "id": "Y-Pc4_VQc9nB",
    "outputId": "e385e348-c5f2-427d-f5d2-9fb1a0e90dbf"
   },
   "outputs": [
    {
     "data": {
      "text/html": [
       "<div>\n",
       "<style scoped>\n",
       "    .dataframe tbody tr th:only-of-type {\n",
       "        vertical-align: middle;\n",
       "    }\n",
       "\n",
       "    .dataframe tbody tr th {\n",
       "        vertical-align: top;\n",
       "    }\n",
       "\n",
       "    .dataframe thead th {\n",
       "        text-align: right;\n",
       "    }\n",
       "</style>\n",
       "<table border=\"1\" class=\"dataframe\">\n",
       "  <thead>\n",
       "    <tr style=\"text-align: right;\">\n",
       "      <th></th>\n",
       "      <th>정책ID</th>\n",
       "      <th>정책서비스ID</th>\n",
       "      <th>서비스명</th>\n",
       "      <th>소관기관</th>\n",
       "      <th>소관기관유형</th>\n",
       "      <th>소관기관.1</th>\n",
       "      <th>문의처전화번호</th>\n",
       "      <th>소관기관유형.1</th>\n",
       "      <th>온라인신청사이트URL</th>\n",
       "      <th>생애주기</th>\n",
       "      <th>...</th>\n",
       "      <th>태그-자녀상세</th>\n",
       "      <th>태그-직장상세</th>\n",
       "      <th>태그-지원유형상세</th>\n",
       "      <th>태그-지역(시군구)</th>\n",
       "      <th>태그-대상특성상세</th>\n",
       "      <th>태그-대상특성</th>\n",
       "      <th>태그-대상연령시작</th>\n",
       "      <th>태그-대상연령끝</th>\n",
       "      <th>태그-중위소득시작</th>\n",
       "      <th>태그-중위소득끝</th>\n",
       "    </tr>\n",
       "  </thead>\n",
       "  <tbody>\n",
       "    <tr>\n",
       "      <th>0</th>\n",
       "      <td>60001</td>\n",
       "      <td>483000000355</td>\n",
       "      <td>농산물 우수관리제도GAP 인증신청 수수료 지원</td>\n",
       "      <td>전라남도 나주시</td>\n",
       "      <td>시군구</td>\n",
       "      <td>전라남도 나주시</td>\n",
       "      <td>061-339-7393</td>\n",
       "      <td>시군구</td>\n",
       "      <td>NaN</td>\n",
       "      <td>중장년</td>\n",
       "      <td>...</td>\n",
       "      <td>NaN</td>\n",
       "      <td>협회/단체/기타서비스업,협회/단체/기타서비스업,협회/단체/기타서비스업</td>\n",
       "      <td>NaN</td>\n",
       "      <td>NaN</td>\n",
       "      <td>NaN</td>\n",
       "      <td>농축수산인,기관/시설</td>\n",
       "      <td>0</td>\n",
       "      <td>99</td>\n",
       "      <td>0</td>\n",
       "      <td>0</td>\n",
       "    </tr>\n",
       "    <tr>\n",
       "      <th>1</th>\n",
       "      <td>60002</td>\n",
       "      <td>485000000361</td>\n",
       "      <td>우수 후계농업경영인 추가 지원</td>\n",
       "      <td>전라남도 담양군</td>\n",
       "      <td>시군구</td>\n",
       "      <td>전라남도 담양군</td>\n",
       "      <td>380-2712</td>\n",
       "      <td>시군구</td>\n",
       "      <td>NaN</td>\n",
       "      <td>청년||중장년</td>\n",
       "      <td>...</td>\n",
       "      <td>NaN</td>\n",
       "      <td>경영/사무/금융/보험직,경영/사무/금융/보험직,농업/축산업/어업,농업/축산업/어업,...</td>\n",
       "      <td>NaN</td>\n",
       "      <td>NaN</td>\n",
       "      <td>NaN</td>\n",
       "      <td>농축수산인</td>\n",
       "      <td>0</td>\n",
       "      <td>99</td>\n",
       "      <td>0</td>\n",
       "      <td>0</td>\n",
       "    </tr>\n",
       "    <tr>\n",
       "      <th>2</th>\n",
       "      <td>60003</td>\n",
       "      <td>485000000363</td>\n",
       "      <td>유망 예비 농업인 및 우수 농업경영인 대상 창업 자금 등 융자 지원(후계농업경영인 육성)</td>\n",
       "      <td>전라남도 담양군</td>\n",
       "      <td>시군구</td>\n",
       "      <td>전라남도 담양군</td>\n",
       "      <td>380-2712</td>\n",
       "      <td>시군구</td>\n",
       "      <td>NaN</td>\n",
       "      <td>청년||중장년</td>\n",
       "      <td>...</td>\n",
       "      <td>NaN</td>\n",
       "      <td>경영/사무/금융/보험직,경영/사무/금융/보험직,농업/축산업/어업,농업/축산업/어업,...</td>\n",
       "      <td>NaN</td>\n",
       "      <td>NaN</td>\n",
       "      <td>NaN</td>\n",
       "      <td>농축수산인</td>\n",
       "      <td>0</td>\n",
       "      <td>99</td>\n",
       "      <td>0</td>\n",
       "      <td>0</td>\n",
       "    </tr>\n",
       "    <tr>\n",
       "      <th>3</th>\n",
       "      <td>60004</td>\n",
       "      <td>485000000370</td>\n",
       "      <td>의료급여수급자 일반 건강검진 지원</td>\n",
       "      <td>전라남도 담양군</td>\n",
       "      <td>시군구</td>\n",
       "      <td>전라남도 담양군</td>\n",
       "      <td>061-380-3993</td>\n",
       "      <td>시군구</td>\n",
       "      <td>NaN</td>\n",
       "      <td>청년||중장년</td>\n",
       "      <td>...</td>\n",
       "      <td>NaN</td>\n",
       "      <td>NaN</td>\n",
       "      <td>의료</td>\n",
       "      <td>NaN</td>\n",
       "      <td>NaN</td>\n",
       "      <td>NaN</td>\n",
       "      <td>0</td>\n",
       "      <td>99</td>\n",
       "      <td>0</td>\n",
       "      <td>0</td>\n",
       "    </tr>\n",
       "    <tr>\n",
       "      <th>4</th>\n",
       "      <td>60005</td>\n",
       "      <td>485000000371</td>\n",
       "      <td>의료기관 결핵 환자 접촉자 검진비 지원</td>\n",
       "      <td>전라남도 담양군</td>\n",
       "      <td>시군구</td>\n",
       "      <td>전라남도 담양군</td>\n",
       "      <td>061-380-3978</td>\n",
       "      <td>시군구</td>\n",
       "      <td>NaN</td>\n",
       "      <td>영·유아||아동·청소년||청년||중장년||노년기</td>\n",
       "      <td>...</td>\n",
       "      <td>NaN</td>\n",
       "      <td>NaN</td>\n",
       "      <td>의료</td>\n",
       "      <td>NaN</td>\n",
       "      <td>NaN</td>\n",
       "      <td>NaN</td>\n",
       "      <td>0</td>\n",
       "      <td>99</td>\n",
       "      <td>0</td>\n",
       "      <td>0</td>\n",
       "    </tr>\n",
       "  </tbody>\n",
       "</table>\n",
       "<p>5 rows × 40 columns</p>\n",
       "</div>"
      ],
      "text/plain": [
       "    정책ID       정책서비스ID                                               서비스명  \\\n",
       "0  60001  483000000355                          농산물 우수관리제도GAP 인증신청 수수료 지원   \n",
       "1  60002  485000000361                                   우수 후계농업경영인 추가 지원   \n",
       "2  60003  485000000363  유망 예비 농업인 및 우수 농업경영인 대상 창업 자금 등 융자 지원(후계농업경영인 육성)   \n",
       "3  60004  485000000370                                 의료급여수급자 일반 건강검진 지원   \n",
       "4  60005  485000000371                              의료기관 결핵 환자 접촉자 검진비 지원   \n",
       "\n",
       "       소관기관 소관기관유형    소관기관.1       문의처전화번호 소관기관유형.1 온라인신청사이트URL  \\\n",
       "0  전라남도 나주시    시군구  전라남도 나주시  061-339-7393      시군구         NaN   \n",
       "1  전라남도 담양군    시군구  전라남도 담양군      380-2712      시군구         NaN   \n",
       "2  전라남도 담양군    시군구  전라남도 담양군      380-2712      시군구         NaN   \n",
       "3  전라남도 담양군    시군구  전라남도 담양군  061-380-3993      시군구         NaN   \n",
       "4  전라남도 담양군    시군구  전라남도 담양군  061-380-3978      시군구         NaN   \n",
       "\n",
       "                         생애주기  ... 태그-자녀상세  \\\n",
       "0                         중장년  ...     NaN   \n",
       "1                     청년||중장년  ...     NaN   \n",
       "2                     청년||중장년  ...     NaN   \n",
       "3                     청년||중장년  ...     NaN   \n",
       "4  영·유아||아동·청소년||청년||중장년||노년기  ...     NaN   \n",
       "\n",
       "                                             태그-직장상세 태그-지원유형상세 태그-지역(시군구)  \\\n",
       "0             협회/단체/기타서비스업,협회/단체/기타서비스업,협회/단체/기타서비스업       NaN        NaN   \n",
       "1  경영/사무/금융/보험직,경영/사무/금융/보험직,농업/축산업/어업,농업/축산업/어업,...       NaN        NaN   \n",
       "2  경영/사무/금융/보험직,경영/사무/금융/보험직,농업/축산업/어업,농업/축산업/어업,...       NaN        NaN   \n",
       "3                                                NaN        의료        NaN   \n",
       "4                                                NaN        의료        NaN   \n",
       "\n",
       "  태그-대상특성상세      태그-대상특성 태그-대상연령시작 태그-대상연령끝 태그-중위소득시작 태그-중위소득끝  \n",
       "0       NaN  농축수산인,기관/시설         0       99         0        0  \n",
       "1       NaN        농축수산인         0       99         0        0  \n",
       "2       NaN        농축수산인         0       99         0        0  \n",
       "3       NaN          NaN         0       99         0        0  \n",
       "4       NaN          NaN         0       99         0        0  \n",
       "\n",
       "[5 rows x 40 columns]"
      ]
     },
     "execution_count": 23,
     "metadata": {},
     "output_type": "execute_result"
    }
   ],
   "source": [
    "df1=pd.read_excel('policy_metetable(D조).xlsx')\n",
    "df1.head()"
   ]
  },
  {
   "cell_type": "code",
   "execution_count": null,
   "metadata": {
    "colab": {
     "base_uri": "https://localhost:8080/"
    },
    "executionInfo": {
     "elapsed": 301,
     "status": "ok",
     "timestamp": 1636222484619,
     "user": {
      "displayName": "‍장윤태(학부학생/이과대학 수학)",
      "photoUrl": "https://lh3.googleusercontent.com/a/default-user=s64",
      "userId": "16992420276818568450"
     },
     "user_tz": -540
    },
    "id": "deSRKJxZc9nD",
    "outputId": "764a8cc6-9514-4322-a71a-70d86eb4cdda"
   },
   "outputs": [
    {
     "data": {
      "text/plain": [
       "0    농산물 우수관리(GAP) 인증심사 시 필요한 수수료 및 심사원 출장비 지원\\n\\n\\...\n",
       "1    우수한 농업경영인의 영농규모 확대 및 경영개선 자금을 지원(2년간 최대 2억원 정책...\n",
       "2    영농 후계자 육성을 위해 일정 요건을 갖춘 농업인 및 농업인이 되고자 하는 자에 대...\n",
       "3    심 뇌혈관질환을 중심으로 13개 질환을 조기 발견하기 위해 1, 2차로 검진 실시\\...\n",
       "4    호흡기결핵 환자의 가족 등 접촉자는 '가족접촉자 검진수첩'을 제공받아 보건소 또는 ...\n",
       "5    62세 이상 어르신 및 생후 6개월 이상 18세 어린이, 임신부 인플루엔자 백신(매...\n",
       "6    ○취약계층 암 환자 및 말기 암 환자 우선 지원 대상\\n○재가 암 환자에게 보건의료...\n",
       "Name: 지원내용, dtype: object"
      ]
     },
     "execution_count": 6,
     "metadata": {},
     "output_type": "execute_result"
    }
   ],
   "source": [
    "df1['지원내용'][0:7]"
   ]
  },
  {
   "cell_type": "code",
   "execution_count": null,
   "metadata": {
    "id": "dKhFoOCsc9nE"
   },
   "outputs": [],
   "source": [
    "text_train = open('test_train.txt', 'w')\n",
    "for i in df1['지원내용'][0:7]:\n",
    "    i_split = i.split('\\n')[:-4]\n",
    "    ' '.join(i_split)\n",
    "    i_split = f'{i_split[0]}\\n'\n",
    "    i_filter = re.sub(r'[^\\d\\s\\w]', ' ', i_split)\n",
    "    text_train.write(i_filter)\n",
    "text_train.close()"
   ]
  },
  {
   "cell_type": "code",
   "execution_count": null,
   "metadata": {
    "colab": {
     "base_uri": "https://localhost:8080/",
     "height": 106
    },
    "executionInfo": {
     "elapsed": 458,
     "status": "ok",
     "timestamp": 1636222489138,
     "user": {
      "displayName": "‍장윤태(학부학생/이과대학 수학)",
      "photoUrl": "https://lh3.googleusercontent.com/a/default-user=s64",
      "userId": "16992420276818568450"
     },
     "user_tz": -540
    },
    "id": "BRlhlkIYc9nE",
    "outputId": "d692ff19-42b2-48c4-bd1b-4d9f6ac7c17c"
   },
   "outputs": [
    {
     "data": {
      "application/vnd.google.colaboratory.intrinsic+json": {
       "type": "string"
      },
      "text/plain": [
       "'농산물 우수관리 GAP  인증심사 시 필요한 수수료 및 심사원 출장비 지원\\n우수한 농업경영인의 영농규모 확대 및 경영개선 자금을 지원 2년간 최대 2억원 정책자금 대출  고정 금리 1    5년 거치 10년 상환 \\n영농 후계자 육성을 위해 일정 요건을 갖춘 농업인 및 농업인이 되고자 하는 자에 대한 창업 자금을 융자 지원\\n심 뇌혈관질환을 중심으로 13개 질환을 조기 발견하기 위해 1  2차로 검진 실시\\n호흡기결핵 환자의 가족 등 접촉자는  가족접촉자 검진수첩 을 제공받아 보건소 또는 의료기관 접촉자 검진 참여 의료기관 에서 전액 무료로 결핵 및 잠복결핵감염 검진을 받을 수 있음\\n62세 이상 어르신 및 생후 6개월 이상 18세 어린이  임신부 인플루엔자 백신 매년 9 10월 시작 예정  및 시행비\\n 취약계층 암 환자 및 말기 암 환자 우선 지원 대상\\n'"
      ]
     },
     "execution_count": 8,
     "metadata": {},
     "output_type": "execute_result"
    }
   ],
   "source": [
    "text_train = open('test_train.txt', 'r')\n",
    "text_train.read()"
   ]
  },
  {
   "cell_type": "code",
   "execution_count": null,
   "metadata": {
    "id": "qRJJgNEoc9nF"
   },
   "outputs": [],
   "source": [
    "text_val = open('test_val.txt', 'w')\n",
    "for i in df1['지원내용'][7:10]:\n",
    "    i_split = i.split('\\n')[:-4]\n",
    "    ' '.join(i_split)\n",
    "    i_split = f'{i_split[0]}\\n'\n",
    "    i_filter = re.sub(r'[^\\d\\s\\w]', ' ', i_split)\n",
    "    text_val.write(i_filter)\n",
    "text_val.close()"
   ]
  },
  {
   "cell_type": "code",
   "execution_count": null,
   "metadata": {
    "colab": {
     "base_uri": "https://localhost:8080/",
     "height": 53
    },
    "executionInfo": {
     "elapsed": 5,
     "status": "ok",
     "timestamp": 1636222489983,
     "user": {
      "displayName": "‍장윤태(학부학생/이과대학 수학)",
      "photoUrl": "https://lh3.googleusercontent.com/a/default-user=s64",
      "userId": "16992420276818568450"
     },
     "user_tz": -540
    },
    "id": "K-I8dEz4c9nG",
    "outputId": "6c782e6d-27d7-44ff-968d-367bb6a69961"
   },
   "outputs": [
    {
     "data": {
      "application/vnd.google.colaboratory.intrinsic+json": {
       "type": "string"
      },
      "text/plain": [
       "'당해 학교의 수업료와 입학금 전액\\n곤충생산 관련 사육사  저장고의 신축 및 개보수  관련 기자재의 신규 구비 및 교체에 지원\\n농수산물의 생산  가공  유통  수출 등을 위한 각종 시설 및 운영에 필요한 자금 지원\\n'"
      ]
     },
     "execution_count": 10,
     "metadata": {},
     "output_type": "execute_result"
    }
   ],
   "source": [
    "text_val = open('test_val.txt', 'r')\n",
    "text_val.read()"
   ]
  },
  {
   "cell_type": "code",
   "execution_count": 24,
   "metadata": {
    "id": "gPglfiauc9nH"
   },
   "outputs": [],
   "source": [
    "text_test = open('test_test.txt', 'w')\n",
    "for i in df1['지원내용'][51:52]:\n",
    "    i_split = i.split('\\n')[:-4]\n",
    "    ' '.join(i_split)\n",
    "    i_split = f'{i_split[0]}\\n'\n",
    "    i_filter = re.sub(r'[^\\d\\s\\w]', ' ', i_split)\n",
    "    text_test.write(i_filter)\n",
    "text_test.close()"
   ]
  },
  {
   "cell_type": "code",
   "execution_count": 25,
   "metadata": {
    "colab": {
     "base_uri": "https://localhost:8080/",
     "height": 53
    },
    "executionInfo": {
     "elapsed": 5,
     "status": "ok",
     "timestamp": 1636222492740,
     "user": {
      "displayName": "‍장윤태(학부학생/이과대학 수학)",
      "photoUrl": "https://lh3.googleusercontent.com/a/default-user=s64",
      "userId": "16992420276818568450"
     },
     "user_tz": -540
    },
    "id": "qs3gW70Ec9nI",
    "outputId": "5c043b17-04b2-4239-c261-08355effd5ab"
   },
   "outputs": [
    {
     "data": {
      "text/plain": [
       "'아동보호 안전한 보호  급식   교육 기능 일상생활지도  학습능력 제고 등   정서적 지원 상담  가족지원   문화서비스 체험활동  공연  등으로 지역사회 내 아동 돌봄에 대한 사전예방적 기능 및 사후연계 제공\\n'"
      ]
     },
     "execution_count": 25,
     "metadata": {},
     "output_type": "execute_result"
    }
   ],
   "source": [
    "text_test = open('test_test.txt', 'r')\n",
    "text_test.read()"
   ]
  },
  {
   "cell_type": "code",
   "execution_count": null,
   "metadata": {
    "colab": {
     "base_uri": "https://localhost:8080/",
     "height": 774
    },
    "executionInfo": {
     "elapsed": 6,
     "status": "ok",
     "timestamp": 1636222494305,
     "user": {
      "displayName": "‍장윤태(학부학생/이과대학 수학)",
      "photoUrl": "https://lh3.googleusercontent.com/a/default-user=s64",
      "userId": "16992420276818568450"
     },
     "user_tz": -540
    },
    "id": "j1B4kM3hc9nJ",
    "outputId": "11b96ea4-aba5-4acd-cc8e-deb01b269fc3"
   },
   "outputs": [
    {
     "data": {
      "text/html": [
       "<div>\n",
       "<style scoped>\n",
       "    .dataframe tbody tr th:only-of-type {\n",
       "        vertical-align: middle;\n",
       "    }\n",
       "\n",
       "    .dataframe tbody tr th {\n",
       "        vertical-align: top;\n",
       "    }\n",
       "\n",
       "    .dataframe thead th {\n",
       "        text-align: right;\n",
       "    }\n",
       "</style>\n",
       "<table border=\"1\" class=\"dataframe\">\n",
       "  <thead>\n",
       "    <tr style=\"text-align: right;\">\n",
       "      <th></th>\n",
       "      <th>정책ID</th>\n",
       "      <th>정책서비스ID</th>\n",
       "      <th>서비스명</th>\n",
       "      <th>신청절차</th>\n",
       "      <th>자녀</th>\n",
       "      <th>수집유형</th>\n",
       "      <th>가구원</th>\n",
       "      <th>성별</th>\n",
       "      <th>학력</th>\n",
       "      <th>직장</th>\n",
       "      <th>결혼</th>\n",
       "      <th>지원유형</th>\n",
       "      <th>지역(시도)</th>\n",
       "      <th>관심상황특성</th>\n",
       "      <th>자녀상세</th>\n",
       "      <th>직장상세</th>\n",
       "      <th>지원유형상세</th>\n",
       "      <th>지역(시군구)</th>\n",
       "      <th>대상특성상세</th>\n",
       "      <th>대상특성</th>\n",
       "      <th>대상연령시작</th>\n",
       "      <th>대상연령끝</th>\n",
       "      <th>중위소득기준-시작</th>\n",
       "      <th>중위소득기준-종료</th>\n",
       "    </tr>\n",
       "  </thead>\n",
       "  <tbody>\n",
       "    <tr>\n",
       "      <th>0</th>\n",
       "      <td>75000</td>\n",
       "      <td>458000000210</td>\n",
       "      <td>6차산업 자금 융자 지원</td>\n",
       "      <td>NaN</td>\n",
       "      <td>NaN</td>\n",
       "      <td>NaN</td>\n",
       "      <td>무관</td>\n",
       "      <td>무관</td>\n",
       "      <td>무관</td>\n",
       "      <td>무관</td>\n",
       "      <td>무관</td>\n",
       "      <td>현금,현물</td>\n",
       "      <td>충청남도</td>\n",
       "      <td>개인금융지원,기업금융지원</td>\n",
       "      <td>NaN</td>\n",
       "      <td>NaN</td>\n",
       "      <td>A09-01-02</td>\n",
       "      <td>A01-12-11</td>\n",
       "      <td>축산업인</td>\n",
       "      <td>농축수산인,기관/시설</td>\n",
       "      <td>0.0</td>\n",
       "      <td>99.0</td>\n",
       "      <td>0.0</td>\n",
       "      <td>999.0</td>\n",
       "    </tr>\n",
       "    <tr>\n",
       "      <th>1</th>\n",
       "      <td>74999</td>\n",
       "      <td>458000000382</td>\n",
       "      <td>장애 입양아동 의료비 지원</td>\n",
       "      <td>오프라인</td>\n",
       "      <td>있음</td>\n",
       "      <td>NaN</td>\n",
       "      <td>무관</td>\n",
       "      <td>무관</td>\n",
       "      <td>무관</td>\n",
       "      <td>무관</td>\n",
       "      <td>무관</td>\n",
       "      <td>현금,현물,의료지원</td>\n",
       "      <td>충청남도</td>\n",
       "      <td>NaN</td>\n",
       "      <td>NaN</td>\n",
       "      <td>NaN</td>\n",
       "      <td>A09-03-03, A09-01-00</td>\n",
       "      <td>A01-12-11</td>\n",
       "      <td>NaN</td>\n",
       "      <td>장애인,입양가정</td>\n",
       "      <td>6.0</td>\n",
       "      <td>12.0</td>\n",
       "      <td>0.0</td>\n",
       "      <td>999.0</td>\n",
       "    </tr>\n",
       "    <tr>\n",
       "      <th>2</th>\n",
       "      <td>74998</td>\n",
       "      <td>000000402300</td>\n",
       "      <td>행려자 귀향여비 지원</td>\n",
       "      <td>NaN</td>\n",
       "      <td>NaN</td>\n",
       "      <td>NaN</td>\n",
       "      <td>무관</td>\n",
       "      <td>무관</td>\n",
       "      <td>무관</td>\n",
       "      <td>무관</td>\n",
       "      <td>무관</td>\n",
       "      <td>현금,현물</td>\n",
       "      <td>충청남도</td>\n",
       "      <td>NaN</td>\n",
       "      <td>NaN</td>\n",
       "      <td>NaN</td>\n",
       "      <td>A09-01-00</td>\n",
       "      <td>A01-12-11</td>\n",
       "      <td>NaN</td>\n",
       "      <td>NaN</td>\n",
       "      <td>0.0</td>\n",
       "      <td>99.0</td>\n",
       "      <td>0.0</td>\n",
       "      <td>999.0</td>\n",
       "    </tr>\n",
       "    <tr>\n",
       "      <th>3</th>\n",
       "      <td>74997</td>\n",
       "      <td>458000000253</td>\n",
       "      <td>농산물 우수관리 시설 보완 지원(GAP)</td>\n",
       "      <td>오프라인</td>\n",
       "      <td>NaN</td>\n",
       "      <td>NaN</td>\n",
       "      <td>무관</td>\n",
       "      <td>무관</td>\n",
       "      <td>무관</td>\n",
       "      <td>소상공인,중소기업</td>\n",
       "      <td>무관</td>\n",
       "      <td>현금,현물</td>\n",
       "      <td>충청남도</td>\n",
       "      <td>NaN</td>\n",
       "      <td>NaN</td>\n",
       "      <td>NaN</td>\n",
       "      <td>A09-01-00</td>\n",
       "      <td>A01-12-11</td>\n",
       "      <td>NaN</td>\n",
       "      <td>농축수산인,기관/시설</td>\n",
       "      <td>0.0</td>\n",
       "      <td>99.0</td>\n",
       "      <td>0.0</td>\n",
       "      <td>999.0</td>\n",
       "    </tr>\n",
       "    <tr>\n",
       "      <th>4</th>\n",
       "      <td>74996</td>\n",
       "      <td>644000000251</td>\n",
       "      <td>충청남도 공공갈등 예방과 조정 지원</td>\n",
       "      <td>NaN</td>\n",
       "      <td>NaN</td>\n",
       "      <td>NaN</td>\n",
       "      <td>무관</td>\n",
       "      <td>무관</td>\n",
       "      <td>무관</td>\n",
       "      <td>무관</td>\n",
       "      <td>무관</td>\n",
       "      <td>상담/법률지원</td>\n",
       "      <td>충청남도</td>\n",
       "      <td>NaN</td>\n",
       "      <td>NaN</td>\n",
       "      <td>NaN</td>\n",
       "      <td>NaN</td>\n",
       "      <td>A01-12-00</td>\n",
       "      <td>NaN</td>\n",
       "      <td>NaN</td>\n",
       "      <td>0.0</td>\n",
       "      <td>99.0</td>\n",
       "      <td>0.0</td>\n",
       "      <td>999.0</td>\n",
       "    </tr>\n",
       "  </tbody>\n",
       "</table>\n",
       "</div>"
      ],
      "text/plain": [
       "    정책ID       정책서비스ID                    서비스명  ... 대상연령끝 중위소득기준-시작  중위소득기준-종료\n",
       "0  75000  458000000210           6차산업 자금 융자 지원  ...  99.0       0.0      999.0\n",
       "1  74999  458000000382          장애 입양아동 의료비 지원  ...  12.0       0.0      999.0\n",
       "2  74998  000000402300             행려자 귀향여비 지원  ...  99.0       0.0      999.0\n",
       "3  74997  458000000253  농산물 우수관리 시설 보완 지원(GAP)  ...  99.0       0.0      999.0\n",
       "4  74996  644000000251     충청남도 공공갈등 예방과 조정 지원  ...  99.0       0.0      999.0\n",
       "\n",
       "[5 rows x 24 columns]"
      ]
     },
     "execution_count": 13,
     "metadata": {},
     "output_type": "execute_result"
    }
   ],
   "source": [
    "df2=pd.read_csv('프로젝트2-D팀.csv')\n",
    "df2.head()"
   ]
  },
  {
   "cell_type": "code",
   "execution_count": null,
   "metadata": {
    "colab": {
     "base_uri": "https://localhost:8080/",
     "height": 234
    },
    "executionInfo": {
     "elapsed": 312,
     "status": "ok",
     "timestamp": 1636222503283,
     "user": {
      "displayName": "‍장윤태(학부학생/이과대학 수학)",
      "photoUrl": "https://lh3.googleusercontent.com/a/default-user=s64",
      "userId": "16992420276818568450"
     },
     "user_tz": -540
    },
    "id": "YCGQ5hlIc9nJ",
    "outputId": "3799536a-8dbf-4103-b34d-b92965349385"
   },
   "outputs": [
    {
     "data": {
      "text/html": [
       "<div>\n",
       "<style scoped>\n",
       "    .dataframe tbody tr th:only-of-type {\n",
       "        vertical-align: middle;\n",
       "    }\n",
       "\n",
       "    .dataframe tbody tr th {\n",
       "        vertical-align: top;\n",
       "    }\n",
       "\n",
       "    .dataframe thead th {\n",
       "        text-align: right;\n",
       "    }\n",
       "</style>\n",
       "<table border=\"1\" class=\"dataframe\">\n",
       "  <thead>\n",
       "    <tr style=\"text-align: right;\">\n",
       "      <th></th>\n",
       "      <th>직장</th>\n",
       "      <th>대상특성</th>\n",
       "    </tr>\n",
       "  </thead>\n",
       "  <tbody>\n",
       "    <tr>\n",
       "      <th>14994</th>\n",
       "      <td>무관</td>\n",
       "      <td>NaN</td>\n",
       "    </tr>\n",
       "    <tr>\n",
       "      <th>14995</th>\n",
       "      <td>무관</td>\n",
       "      <td>NaN</td>\n",
       "    </tr>\n",
       "    <tr>\n",
       "      <th>14996</th>\n",
       "      <td>무관</td>\n",
       "      <td>NaN</td>\n",
       "    </tr>\n",
       "    <tr>\n",
       "      <th>14997</th>\n",
       "      <td>무관</td>\n",
       "      <td>NaN</td>\n",
       "    </tr>\n",
       "    <tr>\n",
       "      <th>14998</th>\n",
       "      <td>무관</td>\n",
       "      <td>NaN</td>\n",
       "    </tr>\n",
       "    <tr>\n",
       "      <th>14999</th>\n",
       "      <td>소상공인,중소기업,근로자/직장인</td>\n",
       "      <td>NaN</td>\n",
       "    </tr>\n",
       "  </tbody>\n",
       "</table>\n",
       "</div>"
      ],
      "text/plain": [
       "                      직장 대상특성\n",
       "14994                 무관  NaN\n",
       "14995                 무관  NaN\n",
       "14996                 무관  NaN\n",
       "14997                 무관  NaN\n",
       "14998                 무관  NaN\n",
       "14999  소상공인,중소기업,근로자/직장인  NaN"
      ]
     },
     "execution_count": 15,
     "metadata": {},
     "output_type": "execute_result"
    }
   ],
   "source": [
    "output_data = df2[['직장', '대상특성']][-6:]\n",
    "output_data"
   ]
  },
  {
   "cell_type": "markdown",
   "metadata": {
    "id": "trKB5xdEc9nK"
   },
   "source": [
    "<h1>Step 2: Download Libraries</h1>"
   ]
  },
  {
   "cell_type": "code",
   "execution_count": null,
   "metadata": {
    "colab": {
     "base_uri": "https://localhost:8080/"
    },
    "executionInfo": {
     "elapsed": 29875,
     "status": "ok",
     "timestamp": 1636222536848,
     "user": {
      "displayName": "‍장윤태(학부학생/이과대학 수학)",
      "photoUrl": "https://lh3.googleusercontent.com/a/default-user=s64",
      "userId": "16992420276818568450"
     },
     "user_tz": -540
    },
    "id": "ezlUFM-jc9nK",
    "outputId": "4f29ee6e-876e-4f21-b7ec-c3ad5fcc3702"
   },
   "outputs": [
    {
     "name": "stdout",
     "output_type": "stream",
     "text": [
      "Cloning into 'transformers'...\n",
      "remote: Enumerating objects: 88571, done.\u001b[K\n",
      "remote: Counting objects: 100% (3/3), done.\u001b[K\n",
      "remote: Compressing objects: 100% (3/3), done.\u001b[K\n",
      "remote: Total 88571 (delta 0), reused 2 (delta 0), pack-reused 88568\u001b[K\n",
      "Receiving objects: 100% (88571/88571), 71.30 MiB | 24.10 MiB/s, done.\n",
      "Resolving deltas: 100% (63818/63818), done.\n",
      "/content/transformers\n",
      "Processing /content/transformers\n",
      "\u001b[33m  DEPRECATION: A future pip version will change local packages to be built in-place without first copying to a temporary directory. We recommend you use --use-feature=in-tree-build to test your packages with this new behavior before it becomes the default.\n",
      "   pip 21.3 will remove support for this functionality. You can find discussion regarding this at https://github.com/pypa/pip/issues/7555.\u001b[0m\n",
      "  Installing build dependencies ... \u001b[?25l\u001b[?25hdone\n",
      "  Getting requirements to build wheel ... \u001b[?25l\u001b[?25hdone\n",
      "    Preparing wheel metadata ... \u001b[?25l\u001b[?25hdone\n",
      "Requirement already satisfied: regex!=2019.12.17 in /usr/local/lib/python3.7/dist-packages (from transformers==4.13.0.dev0) (2019.12.20)\n",
      "Requirement already satisfied: numpy>=1.17 in /usr/local/lib/python3.7/dist-packages (from transformers==4.13.0.dev0) (1.19.5)\n",
      "Requirement already satisfied: filelock in /usr/local/lib/python3.7/dist-packages (from transformers==4.13.0.dev0) (3.3.0)\n",
      "Collecting pyyaml>=5.1\n",
      "  Downloading PyYAML-6.0-cp37-cp37m-manylinux_2_5_x86_64.manylinux1_x86_64.manylinux_2_12_x86_64.manylinux2010_x86_64.whl (596 kB)\n",
      "\u001b[K     |████████████████████████████████| 596 kB 5.4 MB/s \n",
      "\u001b[?25hRequirement already satisfied: tqdm>=4.27 in /usr/local/lib/python3.7/dist-packages (from transformers==4.13.0.dev0) (4.62.3)\n",
      "Requirement already satisfied: packaging>=20.0 in /usr/local/lib/python3.7/dist-packages (from transformers==4.13.0.dev0) (21.0)\n",
      "Collecting huggingface-hub<1.0,>=0.1.0\n",
      "  Downloading huggingface_hub-0.1.1-py3-none-any.whl (59 kB)\n",
      "\u001b[K     |████████████████████████████████| 59 kB 6.1 MB/s \n",
      "\u001b[?25hRequirement already satisfied: requests in /usr/local/lib/python3.7/dist-packages (from transformers==4.13.0.dev0) (2.23.0)\n",
      "Collecting tokenizers<0.11,>=0.10.1\n",
      "  Downloading tokenizers-0.10.3-cp37-cp37m-manylinux_2_5_x86_64.manylinux1_x86_64.manylinux_2_12_x86_64.manylinux2010_x86_64.whl (3.3 MB)\n",
      "\u001b[K     |████████████████████████████████| 3.3 MB 43.4 MB/s \n",
      "\u001b[?25hRequirement already satisfied: importlib-metadata in /usr/local/lib/python3.7/dist-packages (from transformers==4.13.0.dev0) (4.8.1)\n",
      "Collecting sacremoses\n",
      "  Downloading sacremoses-0.0.46-py3-none-any.whl (895 kB)\n",
      "\u001b[K     |████████████████████████████████| 895 kB 14.5 MB/s \n",
      "\u001b[?25hRequirement already satisfied: typing-extensions>=3.7.4.3 in /usr/local/lib/python3.7/dist-packages (from huggingface-hub<1.0,>=0.1.0->transformers==4.13.0.dev0) (3.7.4.3)\n",
      "Requirement already satisfied: pyparsing>=2.0.2 in /usr/local/lib/python3.7/dist-packages (from packaging>=20.0->transformers==4.13.0.dev0) (2.4.7)\n",
      "Requirement already satisfied: zipp>=0.5 in /usr/local/lib/python3.7/dist-packages (from importlib-metadata->transformers==4.13.0.dev0) (3.6.0)\n",
      "Requirement already satisfied: chardet<4,>=3.0.2 in /usr/local/lib/python3.7/dist-packages (from requests->transformers==4.13.0.dev0) (3.0.4)\n",
      "Requirement already satisfied: certifi>=2017.4.17 in /usr/local/lib/python3.7/dist-packages (from requests->transformers==4.13.0.dev0) (2021.5.30)\n",
      "Requirement already satisfied: urllib3!=1.25.0,!=1.25.1,<1.26,>=1.21.1 in /usr/local/lib/python3.7/dist-packages (from requests->transformers==4.13.0.dev0) (1.24.3)\n",
      "Requirement already satisfied: idna<3,>=2.5 in /usr/local/lib/python3.7/dist-packages (from requests->transformers==4.13.0.dev0) (2.10)\n",
      "Requirement already satisfied: click in /usr/local/lib/python3.7/dist-packages (from sacremoses->transformers==4.13.0.dev0) (7.1.2)\n",
      "Requirement already satisfied: six in /usr/local/lib/python3.7/dist-packages (from sacremoses->transformers==4.13.0.dev0) (1.15.0)\n",
      "Requirement already satisfied: joblib in /usr/local/lib/python3.7/dist-packages (from sacremoses->transformers==4.13.0.dev0) (1.0.1)\n",
      "Building wheels for collected packages: transformers\n",
      "  Building wheel for transformers (PEP 517) ... \u001b[?25l\u001b[?25hdone\n",
      "  Created wheel for transformers: filename=transformers-4.13.0.dev0-py3-none-any.whl size=3101540 sha256=a749cb33a344f93b861e10f40cf7e4751aafbe1bbedbaf92ab945f688a05b065\n",
      "  Stored in directory: /tmp/pip-ephem-wheel-cache-wspca9o8/wheels/49/62/f4/6730819eed4e6468662b1519bf3bf46419b2335990c77f8767\n",
      "Successfully built transformers\n",
      "Installing collected packages: pyyaml, tokenizers, sacremoses, huggingface-hub, transformers\n",
      "  Attempting uninstall: pyyaml\n",
      "    Found existing installation: PyYAML 3.13\n",
      "    Uninstalling PyYAML-3.13:\n",
      "      Successfully uninstalled PyYAML-3.13\n",
      "Successfully installed huggingface-hub-0.1.1 pyyaml-6.0 sacremoses-0.0.46 tokenizers-0.10.3 transformers-4.13.0.dev0\n",
      "\u001b[31mERROR: Could not open requirements file: [Errno 2] No such file or directory: './examples/requirements.txt'\u001b[0m\n"
     ]
    }
   ],
   "source": [
    "!git clone https://github.com/huggingface/transformers\n",
    "%cd transformers\n",
    "!pip install .\n",
    "!pip install -r ./examples/requirements.txt"
   ]
  },
  {
   "cell_type": "markdown",
   "metadata": {
    "id": "1jE3_g5Mc9nL"
   },
   "source": [
    "<h1>Step 3: Finetuning 하기</h1>"
   ]
  },
  {
   "cell_type": "code",
   "execution_count": null,
   "metadata": {
    "colab": {
     "base_uri": "https://localhost:8080/"
    },
    "executionInfo": {
     "elapsed": 8151,
     "status": "ok",
     "timestamp": 1636222626115,
     "user": {
      "displayName": "‍장윤태(학부학생/이과대학 수학)",
      "photoUrl": "https://lh3.googleusercontent.com/a/default-user=s64",
      "userId": "16992420276818568450"
     },
     "user_tz": -540
    },
    "id": "U1L9muShd61m",
    "outputId": "b1e64eae-7fad-45b2-f0d2-d046361020a0"
   },
   "outputs": [
    {
     "name": "stdout",
     "output_type": "stream",
     "text": [
      "Collecting datasets\n",
      "  Downloading datasets-1.15.1-py3-none-any.whl (290 kB)\n",
      "\u001b[K     |████████████████████████████████| 290 kB 5.4 MB/s \n",
      "\u001b[?25hCollecting aiohttp\n",
      "  Downloading aiohttp-3.8.0-cp37-cp37m-manylinux_2_5_x86_64.manylinux1_x86_64.manylinux_2_12_x86_64.manylinux2010_x86_64.whl (1.1 MB)\n",
      "\u001b[K     |████████████████████████████████| 1.1 MB 46.1 MB/s \n",
      "\u001b[?25hRequirement already satisfied: pyarrow!=4.0.0,>=1.0.0 in /usr/local/lib/python3.7/dist-packages (from datasets) (3.0.0)\n",
      "Requirement already satisfied: importlib-metadata in /usr/local/lib/python3.7/dist-packages (from datasets) (4.8.1)\n",
      "Requirement already satisfied: pandas in /usr/local/lib/python3.7/dist-packages (from datasets) (1.1.5)\n",
      "Requirement already satisfied: tqdm>=4.62.1 in /usr/local/lib/python3.7/dist-packages (from datasets) (4.62.3)\n",
      "Requirement already satisfied: packaging in /usr/local/lib/python3.7/dist-packages (from datasets) (21.0)\n",
      "Requirement already satisfied: multiprocess in /usr/local/lib/python3.7/dist-packages (from datasets) (0.70.12.2)\n",
      "Requirement already satisfied: requests>=2.19.0 in /usr/local/lib/python3.7/dist-packages (from datasets) (2.23.0)\n",
      "Collecting fsspec[http]>=2021.05.0\n",
      "  Downloading fsspec-2021.11.0-py3-none-any.whl (132 kB)\n",
      "\u001b[K     |████████████████████████████████| 132 kB 65.0 MB/s \n",
      "\u001b[?25hCollecting xxhash\n",
      "  Downloading xxhash-2.0.2-cp37-cp37m-manylinux2010_x86_64.whl (243 kB)\n",
      "\u001b[K     |████████████████████████████████| 243 kB 27.8 MB/s \n",
      "\u001b[?25hRequirement already satisfied: numpy>=1.17 in /usr/local/lib/python3.7/dist-packages (from datasets) (1.19.5)\n",
      "Requirement already satisfied: dill in /usr/local/lib/python3.7/dist-packages (from datasets) (0.3.4)\n",
      "Requirement already satisfied: huggingface-hub<1.0.0,>=0.1.0 in /usr/local/lib/python3.7/dist-packages (from datasets) (0.1.1)\n",
      "Requirement already satisfied: typing-extensions>=3.7.4.3 in /usr/local/lib/python3.7/dist-packages (from huggingface-hub<1.0.0,>=0.1.0->datasets) (3.7.4.3)\n",
      "Requirement already satisfied: pyyaml in /usr/local/lib/python3.7/dist-packages (from huggingface-hub<1.0.0,>=0.1.0->datasets) (6.0)\n",
      "Requirement already satisfied: filelock in /usr/local/lib/python3.7/dist-packages (from huggingface-hub<1.0.0,>=0.1.0->datasets) (3.3.0)\n",
      "Requirement already satisfied: pyparsing>=2.0.2 in /usr/local/lib/python3.7/dist-packages (from packaging->datasets) (2.4.7)\n",
      "Requirement already satisfied: urllib3!=1.25.0,!=1.25.1,<1.26,>=1.21.1 in /usr/local/lib/python3.7/dist-packages (from requests>=2.19.0->datasets) (1.24.3)\n",
      "Requirement already satisfied: idna<3,>=2.5 in /usr/local/lib/python3.7/dist-packages (from requests>=2.19.0->datasets) (2.10)\n",
      "Requirement already satisfied: chardet<4,>=3.0.2 in /usr/local/lib/python3.7/dist-packages (from requests>=2.19.0->datasets) (3.0.4)\n",
      "Requirement already satisfied: certifi>=2017.4.17 in /usr/local/lib/python3.7/dist-packages (from requests>=2.19.0->datasets) (2021.5.30)\n",
      "Requirement already satisfied: charset-normalizer<3.0,>=2.0 in /usr/local/lib/python3.7/dist-packages (from aiohttp->datasets) (2.0.7)\n",
      "Collecting yarl<2.0,>=1.0\n",
      "  Downloading yarl-1.7.2-cp37-cp37m-manylinux_2_5_x86_64.manylinux1_x86_64.manylinux_2_12_x86_64.manylinux2010_x86_64.whl (271 kB)\n",
      "\u001b[K     |████████████████████████████████| 271 kB 56.3 MB/s \n",
      "\u001b[?25hRequirement already satisfied: attrs>=17.3.0 in /usr/local/lib/python3.7/dist-packages (from aiohttp->datasets) (21.2.0)\n",
      "Collecting multidict<7.0,>=4.5\n",
      "  Downloading multidict-5.2.0-cp37-cp37m-manylinux_2_5_x86_64.manylinux1_x86_64.manylinux_2_12_x86_64.manylinux2010_x86_64.whl (160 kB)\n",
      "\u001b[K     |████████████████████████████████| 160 kB 51.8 MB/s \n",
      "\u001b[?25hCollecting frozenlist>=1.1.1\n",
      "  Downloading frozenlist-1.2.0-cp37-cp37m-manylinux_2_5_x86_64.manylinux1_x86_64.manylinux_2_12_x86_64.manylinux2010_x86_64.whl (192 kB)\n",
      "\u001b[K     |████████████████████████████████| 192 kB 53.6 MB/s \n",
      "\u001b[?25hCollecting asynctest==0.13.0\n",
      "  Downloading asynctest-0.13.0-py3-none-any.whl (26 kB)\n",
      "Collecting async-timeout<5.0,>=4.0.0a3\n",
      "  Downloading async_timeout-4.0.0-py3-none-any.whl (6.1 kB)\n",
      "Collecting aiosignal>=1.1.2\n",
      "  Downloading aiosignal-1.2.0-py3-none-any.whl (8.2 kB)\n",
      "Requirement already satisfied: zipp>=0.5 in /usr/local/lib/python3.7/dist-packages (from importlib-metadata->datasets) (3.6.0)\n",
      "Requirement already satisfied: pytz>=2017.2 in /usr/local/lib/python3.7/dist-packages (from pandas->datasets) (2018.9)\n",
      "Requirement already satisfied: python-dateutil>=2.7.3 in /usr/local/lib/python3.7/dist-packages (from pandas->datasets) (2.8.2)\n",
      "Requirement already satisfied: six>=1.5 in /usr/local/lib/python3.7/dist-packages (from python-dateutil>=2.7.3->pandas->datasets) (1.15.0)\n",
      "Installing collected packages: multidict, frozenlist, yarl, asynctest, async-timeout, aiosignal, fsspec, aiohttp, xxhash, datasets\n",
      "Successfully installed aiohttp-3.8.0 aiosignal-1.2.0 async-timeout-4.0.0 asynctest-0.13.0 datasets-1.15.1 frozenlist-1.2.0 fsspec-2021.11.0 multidict-5.2.0 xxhash-2.0.2 yarl-1.7.2\n"
     ]
    }
   ],
   "source": [
    "!pip install datasets"
   ]
  },
  {
   "cell_type": "code",
   "execution_count": null,
   "metadata": {
    "colab": {
     "base_uri": "https://localhost:8080/"
    },
    "executionInfo": {
     "elapsed": 34551,
     "status": "ok",
     "timestamp": 1636222666399,
     "user": {
      "displayName": "‍장윤태(학부학생/이과대학 수학)",
      "photoUrl": "https://lh3.googleusercontent.com/a/default-user=s64",
      "userId": "16992420276818568450"
     },
     "user_tz": -540
    },
    "id": "UWZZ2ibbc9nL",
    "outputId": "e6b67211-efb0-4c0c-ee37-62a66b5503c3"
   },
   "outputs": [
    {
     "name": "stdout",
     "output_type": "stream",
     "text": [
      "Traceback (most recent call last):\n",
      "  File \"/content/transformers/examples/tensorflow/summarization/run_summarization.py\", line 663, in <module>\n",
      "    main()\n",
      "  File \"/content/transformers/examples/tensorflow/summarization/run_summarization.py\", line 332, in main\n",
      "    model_args, data_args, training_args = parser.parse_args_into_dataclasses()\n",
      "  File \"/usr/local/lib/python3.7/dist-packages/transformers/hf_argparser.py\", line 206, in parse_args_into_dataclasses\n",
      "    obj = dtype(**inputs)\n",
      "  File \"<string>\", line 22, in __init__\n",
      "  File \"/content/transformers/examples/tensorflow/summarization/run_summarization.py\", line 223, in __post_init__\n",
      "    raise ValueError(\"Need either a dataset name or a training/validation file.\")\n",
      "ValueError: Need either a dataset name or a training/validation file.\n"
     ]
    }
   ],
   "source": [
    "# Train gpt-2 model\n",
    "\n",
    "!python /content/transformers/examples/tensorflow/summarization/run_summarization.py \\\n",
    "    --output_dir=finetune \\\n",
    "    --model_type=gpt2 \\\n",
    "    --model_name_or_path=gpt2 \\\n",
    "    --save_total_limit=5 \\\n",
    "    --num_train_epochs=1.0 \\\n",
    "    --do_train \\\n",
    "    --evaluate_during_training \\\n",
    "    --logging_steps=1000 \\\n",
    "    --save_steps=1000 \\\n",
    "    --train_data_file=/content/test_train.txt \\\n",
    "    --do_eval \\\n",
    "    --eval_data_file=/content/test_val.txt \\\n",
    "    --per_device_train_batch_size=8 \\\n",
    "    --per_device_eval_batch_size=8 \\\n",
    "    --block_size=50 \\\n",
    "    --gradient_accumulation_steps=5 \\\n",
    "    --line_by_line"
   ]
  },
  {
   "cell_type": "markdown",
   "metadata": {
    "id": "bAgmy5nFc9nM"
   },
   "source": [
    "<h1>Step 4: 평가(Evaluation)하기</h1>"
   ]
  },
  {
   "cell_type": "code",
   "execution_count": null,
   "metadata": {
    "id": "vBQKrzHHc9nM",
    "outputId": "8f35c879-4657-4556-b011-2bd54be07c36"
   },
   "outputs": [
    {
     "name": "stderr",
     "output_type": "stream",
     "text": [
      "2021-11-07 03:00:49.491719: W tensorflow/stream_executor/platform/default/dso_loader.cc:64] Could not load dynamic library 'cudart64_110.dll'; dlerror: cudart64_110.dll not found\n",
      "2021-11-07 03:00:49.491765: I tensorflow/stream_executor/cuda/cudart_stub.cc:29] Ignore above cudart dlerror if you do not have a GPU set up on your machine.\n",
      "Traceback (most recent call last):\n",
      "  File \"C:/Users/run_summarization.py\", line 663, in <module>\n",
      "    main()\n",
      "  File \"C:/Users/run_summarization.py\", line 332, in main\n",
      "    model_args, data_args, training_args = parser.parse_args_into_dataclasses()\n",
      "  File \"C:\\Users\\admin1\\AppData\\Local\\Programs\\Anaconda\\lib\\site-packages\\transformers\\hf_argparser.py\", line 206, in parse_args_into_dataclasses\n",
      "    obj = dtype(**inputs)\n",
      "  File \"<string>\", line 22, in __init__\n",
      "  File \"C:/Users/run_summarization.py\", line 223, in __post_init__\n",
      "    raise ValueError(\"Need either a dataset name or a training/validation file.\")\n",
      "ValueError: Need either a dataset name or a training/validation file.\n"
     ]
    }
   ],
   "source": [
    "# Test gpt-2 model : evaluate perplexity\n",
    "\n",
    "!python C:/Users/run_summarization.py \\\n",
    "    --output_dir=finetune \\\n",
    "    --model_type=gpt2 \\\n",
    "    --model_name_or_path=finetune \\\n",
    "    --do_eval \\\n",
    "    --eval_data_file=test_test.txt \\\n",
    "    --per_device_eval_batch_size=8 \\"
   ]
  },
  {
   "cell_type": "markdown",
   "metadata": {
    "id": "T12yO2Dgc9nM"
   },
   "source": [
    "<h1>Step 5: 문장 생성하기 (Text Generation)</h1>"
   ]
  },
  {
   "cell_type": "code",
   "execution_count": null,
   "metadata": {
    "id": "sU6FyIcjc9nN"
   },
   "outputs": [],
   "source": [
    "!python C:/Users/run_summarization.py \\\n",
    "    --model_type=gpt2 \\\n",
    "    --length=50\\\n",
    "    --model_name_or_path=gpt2"
   ]
  },
  {
   "cell_type": "code",
   "execution_count": null,
   "metadata": {},
   "outputs": [],
   "source": []
  },
  {
   "cell_type": "markdown",
   "metadata": {},
   "source": [
    "<h1>summarizer library</h1>"
   ]
  },
  {
   "cell_type": "code",
   "execution_count": 13,
   "metadata": {
    "colab": {
     "base_uri": "https://localhost:8080/"
    },
    "executionInfo": {
     "elapsed": 9782,
     "status": "ok",
     "timestamp": 1636256133116,
     "user": {
      "displayName": "‍장윤태(학부학생/이과대학 수학)",
      "photoUrl": "https://lh3.googleusercontent.com/a/default-user=s64",
      "userId": "16992420276818568450"
     },
     "user_tz": -540
    },
    "id": "2Ghv6gozayEs",
    "outputId": "5b0c9049-d2f0-4ab8-ac6e-f12f0fdbe77e"
   },
   "outputs": [
    {
     "name": "stdout",
     "output_type": "stream",
     "text": [
      "Requirement already satisfied: tensorflow in c:\\users\\admin1\\appdata\\local\\programs\\anaconda\\lib\\site-packages (2.7.0)\n",
      "Requirement already satisfied: grpcio<2.0,>=1.24.3 in c:\\users\\admin1\\appdata\\local\\programs\\anaconda\\lib\\site-packages (from tensorflow) (1.41.1)\n",
      "Requirement already satisfied: keras<2.8,>=2.7.0rc0 in c:\\users\\admin1\\appdata\\local\\programs\\anaconda\\lib\\site-packages (from tensorflow) (2.7.0)\n",
      "Requirement already satisfied: h5py>=2.9.0 in c:\\users\\admin1\\appdata\\local\\programs\\anaconda\\lib\\site-packages (from tensorflow) (2.10.0)\n",
      "Requirement already satisfied: gast<0.5.0,>=0.2.1 in c:\\users\\admin1\\appdata\\local\\programs\\anaconda\\lib\\site-packages (from tensorflow) (0.4.0)\n",
      "Requirement already satisfied: numpy>=1.14.5 in c:\\users\\admin1\\appdata\\local\\programs\\anaconda\\lib\\site-packages (from tensorflow) (1.19.2)\n",
      "Requirement already satisfied: six>=1.12.0 in c:\\users\\admin1\\appdata\\local\\programs\\anaconda\\lib\\site-packages (from tensorflow) (1.15.0)\n",
      "Requirement already satisfied: wheel<1.0,>=0.32.0 in c:\\users\\admin1\\appdata\\local\\programs\\anaconda\\lib\\site-packages (from tensorflow) (0.35.1)\n",
      "Requirement already satisfied: tensorflow-io-gcs-filesystem>=0.21.0 in c:\\users\\admin1\\appdata\\local\\programs\\anaconda\\lib\\site-packages (from tensorflow) (0.21.0)\n",
      "Requirement already satisfied: termcolor>=1.1.0 in c:\\users\\admin1\\appdata\\local\\programs\\anaconda\\lib\\site-packages (from tensorflow) (1.1.0)\n",
      "Requirement already satisfied: libclang>=9.0.1 in c:\\users\\admin1\\appdata\\local\\programs\\anaconda\\lib\\site-packages (from tensorflow) (12.0.0)\n",
      "Requirement already satisfied: opt-einsum>=2.3.2 in c:\\users\\admin1\\appdata\\local\\programs\\anaconda\\lib\\site-packages (from tensorflow) (3.3.0)\n",
      "Requirement already satisfied: tensorflow-estimator<2.8,~=2.7.0rc0 in c:\\users\\admin1\\appdata\\local\\programs\\anaconda\\lib\\site-packages (from tensorflow) (2.7.0)\n",
      "Requirement already satisfied: google-pasta>=0.1.1 in c:\\users\\admin1\\appdata\\local\\programs\\anaconda\\lib\\site-packages (from tensorflow) (0.2.0)\n",
      "Requirement already satisfied: protobuf>=3.9.2 in c:\\users\\admin1\\appdata\\local\\programs\\anaconda\\lib\\site-packages (from tensorflow) (3.19.1)\n",
      "Requirement already satisfied: absl-py>=0.4.0 in c:\\users\\admin1\\appdata\\local\\programs\\anaconda\\lib\\site-packages (from tensorflow) (0.15.0)\n",
      "Requirement already satisfied: wrapt>=1.11.0 in c:\\users\\admin1\\appdata\\local\\programs\\anaconda\\lib\\site-packages (from tensorflow) (1.11.2)\n",
      "Requirement already satisfied: tensorboard~=2.6 in c:\\users\\admin1\\appdata\\local\\programs\\anaconda\\lib\\site-packages (from tensorflow) (2.7.0)\n",
      "Requirement already satisfied: flatbuffers<3.0,>=1.12 in c:\\users\\admin1\\appdata\\local\\programs\\anaconda\\lib\\site-packages (from tensorflow) (2.0)\n",
      "Requirement already satisfied: typing-extensions>=3.6.6 in c:\\users\\admin1\\appdata\\local\\programs\\anaconda\\lib\\site-packages (from tensorflow) (3.7.4.3)\n",
      "Requirement already satisfied: keras-preprocessing>=1.1.1 in c:\\users\\admin1\\appdata\\local\\programs\\anaconda\\lib\\site-packages (from tensorflow) (1.1.2)\n",
      "Requirement already satisfied: astunparse>=1.6.0 in c:\\users\\admin1\\appdata\\local\\programs\\anaconda\\lib\\site-packages (from tensorflow) (1.6.3)\n",
      "Requirement already satisfied: requests<3,>=2.21.0 in c:\\users\\admin1\\appdata\\local\\programs\\anaconda\\lib\\site-packages (from tensorboard~=2.6->tensorflow) (2.24.0)\n",
      "Requirement already satisfied: tensorboard-plugin-wit>=1.6.0 in c:\\users\\admin1\\appdata\\local\\programs\\anaconda\\lib\\site-packages (from tensorboard~=2.6->tensorflow) (1.8.0)\n",
      "Requirement already satisfied: google-auth-oauthlib<0.5,>=0.4.1 in c:\\users\\admin1\\appdata\\local\\programs\\anaconda\\lib\\site-packages (from tensorboard~=2.6->tensorflow) (0.4.6)\n",
      "Requirement already satisfied: werkzeug>=0.11.15 in c:\\users\\admin1\\appdata\\local\\programs\\anaconda\\lib\\site-packages (from tensorboard~=2.6->tensorflow) (1.0.1)\n",
      "Requirement already satisfied: tensorboard-data-server<0.7.0,>=0.6.0 in c:\\users\\admin1\\appdata\\local\\programs\\anaconda\\lib\\site-packages (from tensorboard~=2.6->tensorflow) (0.6.1)\n",
      "Requirement already satisfied: setuptools>=41.0.0 in c:\\users\\admin1\\appdata\\local\\programs\\anaconda\\lib\\site-packages (from tensorboard~=2.6->tensorflow) (50.3.1.post20201107)\n",
      "Requirement already satisfied: markdown>=2.6.8 in c:\\users\\admin1\\appdata\\local\\programs\\anaconda\\lib\\site-packages (from tensorboard~=2.6->tensorflow) (3.3.4)\n",
      "Requirement already satisfied: google-auth<3,>=1.6.3 in c:\\users\\admin1\\appdata\\local\\programs\\anaconda\\lib\\site-packages (from tensorboard~=2.6->tensorflow) (2.3.3)\n",
      "Requirement already satisfied: cachetools<5.0,>=2.0.0 in c:\\users\\admin1\\appdata\\local\\programs\\anaconda\\lib\\site-packages (from google-auth<3,>=1.6.3->tensorboard~=2.6->tensorflow) (4.2.4)\n",
      "Requirement already satisfied: rsa<5,>=3.1.4 in c:\\users\\admin1\\appdata\\local\\programs\\anaconda\\lib\\site-packages (from google-auth<3,>=1.6.3->tensorboard~=2.6->tensorflow) (4.7.2)\n",
      "Requirement already satisfied: pyasn1-modules>=0.2.1 in c:\\users\\admin1\\appdata\\local\\programs\\anaconda\\lib\\site-packages (from google-auth<3,>=1.6.3->tensorboard~=2.6->tensorflow) (0.2.8)\n",
      "Requirement already satisfied: requests-oauthlib>=0.7.0 in c:\\users\\admin1\\appdata\\local\\programs\\anaconda\\lib\\site-packages (from google-auth-oauthlib<0.5,>=0.4.1->tensorboard~=2.6->tensorflow) (1.3.0)\n",
      "Requirement already satisfied: chardet<4,>=3.0.2 in c:\\users\\admin1\\appdata\\local\\programs\\anaconda\\lib\\site-packages (from requests<3,>=2.21.0->tensorboard~=2.6->tensorflow) (3.0.4)\n",
      "Requirement already satisfied: idna<3,>=2.5 in c:\\users\\admin1\\appdata\\local\\programs\\anaconda\\lib\\site-packages (from requests<3,>=2.21.0->tensorboard~=2.6->tensorflow) (2.10)\n",
      "Requirement already satisfied: urllib3!=1.25.0,!=1.25.1,<1.26,>=1.21.1 in c:\\users\\admin1\\appdata\\local\\programs\\anaconda\\lib\\site-packages (from requests<3,>=2.21.0->tensorboard~=2.6->tensorflow) (1.25.11)\n",
      "Requirement already satisfied: certifi>=2017.4.17 in c:\\users\\admin1\\appdata\\local\\programs\\anaconda\\lib\\site-packages (from requests<3,>=2.21.0->tensorboard~=2.6->tensorflow) (2020.6.20)\n",
      "Requirement already satisfied: pyasn1<0.5.0,>=0.4.6 in c:\\users\\admin1\\appdata\\local\\programs\\anaconda\\lib\\site-packages (from pyasn1-modules>=0.2.1->google-auth<3,>=1.6.3->tensorboard~=2.6->tensorflow) (0.4.8)\n",
      "Requirement already satisfied: oauthlib>=3.0.0 in c:\\users\\admin1\\appdata\\local\\programs\\anaconda\\lib\\site-packages (from requests-oauthlib>=0.7.0->google-auth-oauthlib<0.5,>=0.4.1->tensorboard~=2.6->tensorflow) (3.1.1)\n"
     ]
    },
    {
     "name": "stderr",
     "output_type": "stream",
     "text": [
      "WARNING: Ignoring invalid distribution -pype1 (c:\\users\\admin1\\appdata\\local\\programs\\anaconda\\lib\\site-packages)\n",
      "WARNING: Ignoring invalid distribution -pype1 (c:\\users\\admin1\\appdata\\local\\programs\\anaconda\\lib\\site-packages)\n",
      "WARNING: Ignoring invalid distribution -pype1 (c:\\users\\admin1\\appdata\\local\\programs\\anaconda\\lib\\site-packages)\n",
      "WARNING: Ignoring invalid distribution -pype1 (c:\\users\\admin1\\appdata\\local\\programs\\anaconda\\lib\\site-packages)\n",
      "WARNING: Ignoring invalid distribution -pype1 (c:\\users\\admin1\\appdata\\local\\programs\\anaconda\\lib\\site-packages)\n"
     ]
    },
    {
     "name": "stdout",
     "output_type": "stream",
     "text": [
      "Requirement already satisfied: bert-extractive-summarizer in c:\\users\\admin1\\appdata\\local\\programs\\anaconda\\lib\\site-packages (0.8.1)\n",
      "Requirement already satisfied: transformers in c:\\users\\admin1\\appdata\\local\\programs\\anaconda\\lib\\site-packages (from bert-extractive-summarizer) (4.13.0.dev0)\n",
      "Requirement already satisfied: spacy in c:\\users\\admin1\\appdata\\local\\programs\\anaconda\\lib\\site-packages (from bert-extractive-summarizer) (3.2.0)\n",
      "Requirement already satisfied: scikit-learn in c:\\users\\admin1\\appdata\\local\\programs\\anaconda\\lib\\site-packages (from bert-extractive-summarizer) (0.23.2)\n",
      "Requirement already satisfied: numpy>=1.13.3 in c:\\users\\admin1\\appdata\\local\\programs\\anaconda\\lib\\site-packages (from scikit-learn->bert-extractive-summarizer) (1.19.2)\n",
      "Requirement already satisfied: scipy>=0.19.1 in c:\\users\\admin1\\appdata\\local\\programs\\anaconda\\lib\\site-packages (from scikit-learn->bert-extractive-summarizer) (1.5.2)\n",
      "Requirement already satisfied: threadpoolctl>=2.0.0 in c:\\users\\admin1\\appdata\\local\\programs\\anaconda\\lib\\site-packages (from scikit-learn->bert-extractive-summarizer) (2.1.0)\n",
      "Requirement already satisfied: joblib>=0.11 in c:\\users\\admin1\\appdata\\local\\programs\\anaconda\\lib\\site-packages (from scikit-learn->bert-extractive-summarizer) (0.17.0)\n",
      "Requirement already satisfied: catalogue<2.1.0,>=2.0.6 in c:\\users\\admin1\\appdata\\local\\programs\\anaconda\\lib\\site-packages (from spacy->bert-extractive-summarizer) (2.0.6)\n",
      "Requirement already satisfied: thinc<8.1.0,>=8.0.12 in c:\\users\\admin1\\appdata\\local\\programs\\anaconda\\lib\\site-packages (from spacy->bert-extractive-summarizer) (8.0.13)\n",
      "Requirement already satisfied: preshed<3.1.0,>=3.0.2 in c:\\users\\admin1\\appdata\\local\\programs\\anaconda\\lib\\site-packages (from spacy->bert-extractive-summarizer) (3.0.6)\n",
      "Requirement already satisfied: pydantic!=1.8,!=1.8.1,<1.9.0,>=1.7.4 in c:\\users\\admin1\\appdata\\local\\programs\\anaconda\\lib\\site-packages (from spacy->bert-extractive-summarizer) (1.8.2)\n",
      "Requirement already satisfied: spacy-legacy<3.1.0,>=3.0.8 in c:\\users\\admin1\\appdata\\local\\programs\\anaconda\\lib\\site-packages (from spacy->bert-extractive-summarizer) (3.0.8)\n",
      "Requirement already satisfied: spacy-loggers<2.0.0,>=1.0.0 in c:\\users\\admin1\\appdata\\local\\programs\\anaconda\\lib\\site-packages (from spacy->bert-extractive-summarizer) (1.0.1)\n",
      "Requirement already satisfied: setuptools in c:\\users\\admin1\\appdata\\local\\programs\\anaconda\\lib\\site-packages (from spacy->bert-extractive-summarizer) (50.3.1.post20201107)\n",
      "Requirement already satisfied: blis<0.8.0,>=0.4.0 in c:\\users\\admin1\\appdata\\local\\programs\\anaconda\\lib\\site-packages (from spacy->bert-extractive-summarizer) (0.7.5)\n",
      "Requirement already satisfied: jinja2 in c:\\users\\admin1\\appdata\\local\\programs\\anaconda\\lib\\site-packages (from spacy->bert-extractive-summarizer) (2.11.2)\n",
      "Requirement already satisfied: packaging>=20.0 in c:\\users\\admin1\\appdata\\local\\programs\\anaconda\\lib\\site-packages (from spacy->bert-extractive-summarizer) (21.2)\n",
      "Requirement already satisfied: langcodes<4.0.0,>=3.2.0 in c:\\users\\admin1\\appdata\\local\\programs\\anaconda\\lib\\site-packages (from spacy->bert-extractive-summarizer) (3.2.1)\n",
      "Requirement already satisfied: wasabi<1.1.0,>=0.8.1 in c:\\users\\admin1\\appdata\\local\\programs\\anaconda\\lib\\site-packages (from spacy->bert-extractive-summarizer) (0.8.2)\n",
      "Requirement already satisfied: tqdm<5.0.0,>=4.38.0 in c:\\users\\admin1\\appdata\\local\\programs\\anaconda\\lib\\site-packages (from spacy->bert-extractive-summarizer) (4.62.3)\n",
      "Requirement already satisfied: typer<0.5.0,>=0.3.0 in c:\\users\\admin1\\appdata\\local\\programs\\anaconda\\lib\\site-packages (from spacy->bert-extractive-summarizer) (0.4.0)\n",
      "Requirement already satisfied: cymem<2.1.0,>=2.0.2 in c:\\users\\admin1\\appdata\\local\\programs\\anaconda\\lib\\site-packages (from spacy->bert-extractive-summarizer) (2.0.6)\n",
      "Requirement already satisfied: murmurhash<1.1.0,>=0.28.0 in c:\\users\\admin1\\appdata\\local\\programs\\anaconda\\lib\\site-packages (from spacy->bert-extractive-summarizer) (1.0.6)\n",
      "Requirement already satisfied: requests<3.0.0,>=2.13.0 in c:\\users\\admin1\\appdata\\local\\programs\\anaconda\\lib\\site-packages (from spacy->bert-extractive-summarizer) (2.24.0)\n",
      "Requirement already satisfied: pathy>=0.3.5 in c:\\users\\admin1\\appdata\\local\\programs\\anaconda\\lib\\site-packages (from spacy->bert-extractive-summarizer) (0.6.1)\n",
      "Requirement already satisfied: srsly<3.0.0,>=2.4.1 in c:\\users\\admin1\\appdata\\local\\programs\\anaconda\\lib\\site-packages (from spacy->bert-extractive-summarizer) (2.4.2)\n",
      "Requirement already satisfied: tokenizers<0.11,>=0.10.1 in c:\\users\\admin1\\appdata\\local\\programs\\anaconda\\lib\\site-packages (from transformers->bert-extractive-summarizer) (0.10.3)\n",
      "Requirement already satisfied: pyyaml>=5.1 in c:\\users\\admin1\\appdata\\local\\programs\\anaconda\\lib\\site-packages (from transformers->bert-extractive-summarizer) (5.3.1)\n",
      "Requirement already satisfied: huggingface-hub<1.0,>=0.1.0 in c:\\users\\admin1\\appdata\\local\\programs\\anaconda\\lib\\site-packages (from transformers->bert-extractive-summarizer) (0.1.1)\n",
      "Requirement already satisfied: regex!=2019.12.17 in c:\\users\\admin1\\appdata\\local\\programs\\anaconda\\lib\\site-packages (from transformers->bert-extractive-summarizer) (2020.10.15)\n",
      "Requirement already satisfied: filelock in c:\\users\\admin1\\appdata\\local\\programs\\anaconda\\lib\\site-packages (from transformers->bert-extractive-summarizer) (3.0.12)\n",
      "Requirement already satisfied: sacremoses in c:\\users\\admin1\\appdata\\local\\programs\\anaconda\\lib\\site-packages (from transformers->bert-extractive-summarizer) (0.0.46)\n",
      "Requirement already satisfied: typing-extensions>=3.7.4.3 in c:\\users\\admin1\\appdata\\local\\programs\\anaconda\\lib\\site-packages (from huggingface-hub<1.0,>=0.1.0->transformers->bert-extractive-summarizer) (3.7.4.3)\n",
      "Requirement already satisfied: pyparsing<3,>=2.0.2 in c:\\users\\admin1\\appdata\\local\\programs\\anaconda\\lib\\site-packages (from packaging>=20.0->spacy->bert-extractive-summarizer) (2.4.7)\n",
      "Requirement already satisfied: smart-open<6.0.0,>=5.0.0 in c:\\users\\admin1\\appdata\\local\\programs\\anaconda\\lib\\site-packages (from pathy>=0.3.5->spacy->bert-extractive-summarizer) (5.2.1)\n",
      "Requirement already satisfied: idna<3,>=2.5 in c:\\users\\admin1\\appdata\\local\\programs\\anaconda\\lib\\site-packages (from requests<3.0.0,>=2.13.0->spacy->bert-extractive-summarizer) (2.10)\n",
      "Requirement already satisfied: urllib3!=1.25.0,!=1.25.1,<1.26,>=1.21.1 in c:\\users\\admin1\\appdata\\local\\programs\\anaconda\\lib\\site-packages (from requests<3.0.0,>=2.13.0->spacy->bert-extractive-summarizer) (1.25.11)\n",
      "Requirement already satisfied: certifi>=2017.4.17 in c:\\users\\admin1\\appdata\\local\\programs\\anaconda\\lib\\site-packages (from requests<3.0.0,>=2.13.0->spacy->bert-extractive-summarizer) (2020.6.20)\n",
      "Requirement already satisfied: chardet<4,>=3.0.2 in c:\\users\\admin1\\appdata\\local\\programs\\anaconda\\lib\\site-packages (from requests<3.0.0,>=2.13.0->spacy->bert-extractive-summarizer) (3.0.4)\n",
      "Requirement already satisfied: colorama in c:\\users\\admin1\\appdata\\local\\programs\\anaconda\\lib\\site-packages (from tqdm<5.0.0,>=4.38.0->spacy->bert-extractive-summarizer) (0.4.4)\n",
      "Requirement already satisfied: click<9.0.0,>=7.1.1 in c:\\users\\admin1\\appdata\\local\\programs\\anaconda\\lib\\site-packages (from typer<0.5.0,>=0.3.0->spacy->bert-extractive-summarizer) (7.1.2)\n",
      "Requirement already satisfied: MarkupSafe>=0.23 in c:\\users\\admin1\\appdata\\local\\programs\\anaconda\\lib\\site-packages (from jinja2->spacy->bert-extractive-summarizer) (1.1.1)\n",
      "Requirement already satisfied: six in c:\\users\\admin1\\appdata\\local\\programs\\anaconda\\lib\\site-packages (from sacremoses->transformers->bert-extractive-summarizer) (1.15.0)\n"
     ]
    },
    {
     "name": "stderr",
     "output_type": "stream",
     "text": [
      "WARNING: Ignoring invalid distribution -pype1 (c:\\users\\admin1\\appdata\\local\\programs\\anaconda\\lib\\site-packages)\n",
      "WARNING: Ignoring invalid distribution -pype1 (c:\\users\\admin1\\appdata\\local\\programs\\anaconda\\lib\\site-packages)\n",
      "WARNING: Ignoring invalid distribution -pype1 (c:\\users\\admin1\\appdata\\local\\programs\\anaconda\\lib\\site-packages)\n",
      "WARNING: Ignoring invalid distribution -pype1 (c:\\users\\admin1\\appdata\\local\\programs\\anaconda\\lib\\site-packages)\n",
      "WARNING: Ignoring invalid distribution -pype1 (c:\\users\\admin1\\appdata\\local\\programs\\anaconda\\lib\\site-packages)\n"
     ]
    },
    {
     "name": "stdout",
     "output_type": "stream",
     "text": [
      "Requirement already satisfied: transformers in c:\\users\\admin1\\appdata\\local\\programs\\anaconda\\lib\\site-packages (4.13.0.dev0)\n",
      "Requirement already satisfied: packaging>=20.0 in c:\\users\\admin1\\appdata\\local\\programs\\anaconda\\lib\\site-packages (from transformers) (21.2)\n",
      "Requirement already satisfied: regex!=2019.12.17 in c:\\users\\admin1\\appdata\\local\\programs\\anaconda\\lib\\site-packages (from transformers) (2020.10.15)\n",
      "Requirement already satisfied: pyyaml>=5.1 in c:\\users\\admin1\\appdata\\local\\programs\\anaconda\\lib\\site-packages (from transformers) (5.3.1)\n",
      "Requirement already satisfied: numpy>=1.17 in c:\\users\\admin1\\appdata\\local\\programs\\anaconda\\lib\\site-packages (from transformers) (1.19.2)\n",
      "Requirement already satisfied: filelock in c:\\users\\admin1\\appdata\\local\\programs\\anaconda\\lib\\site-packages (from transformers) (3.0.12)\n",
      "Requirement already satisfied: requests in c:\\users\\admin1\\appdata\\local\\programs\\anaconda\\lib\\site-packages (from transformers) (2.24.0)\n",
      "Requirement already satisfied: sacremoses in c:\\users\\admin1\\appdata\\local\\programs\\anaconda\\lib\\site-packages (from transformers) (0.0.46)\n",
      "Requirement already satisfied: tokenizers<0.11,>=0.10.1 in c:\\users\\admin1\\appdata\\local\\programs\\anaconda\\lib\\site-packages (from transformers) (0.10.3)\n",
      "Requirement already satisfied: huggingface-hub<1.0,>=0.1.0 in c:\\users\\admin1\\appdata\\local\\programs\\anaconda\\lib\\site-packages (from transformers) (0.1.1)\n",
      "Requirement already satisfied: tqdm>=4.27 in c:\\users\\admin1\\appdata\\local\\programs\\anaconda\\lib\\site-packages (from transformers) (4.62.3)\n",
      "Requirement already satisfied: typing-extensions>=3.7.4.3 in c:\\users\\admin1\\appdata\\local\\programs\\anaconda\\lib\\site-packages (from huggingface-hub<1.0,>=0.1.0->transformers) (3.7.4.3)\n",
      "Requirement already satisfied: pyparsing<3,>=2.0.2 in c:\\users\\admin1\\appdata\\local\\programs\\anaconda\\lib\\site-packages (from packaging>=20.0->transformers) (2.4.7)\n",
      "Requirement already satisfied: colorama in c:\\users\\admin1\\appdata\\local\\programs\\anaconda\\lib\\site-packages (from tqdm>=4.27->transformers) (0.4.4)\n",
      "Requirement already satisfied: certifi>=2017.4.17 in c:\\users\\admin1\\appdata\\local\\programs\\anaconda\\lib\\site-packages (from requests->transformers) (2020.6.20)\n",
      "Requirement already satisfied: idna<3,>=2.5 in c:\\users\\admin1\\appdata\\local\\programs\\anaconda\\lib\\site-packages (from requests->transformers) (2.10)\n",
      "Requirement already satisfied: chardet<4,>=3.0.2 in c:\\users\\admin1\\appdata\\local\\programs\\anaconda\\lib\\site-packages (from requests->transformers) (3.0.4)\n",
      "Requirement already satisfied: urllib3!=1.25.0,!=1.25.1,<1.26,>=1.21.1 in c:\\users\\admin1\\appdata\\local\\programs\\anaconda\\lib\\site-packages (from requests->transformers) (1.25.11)\n",
      "Requirement already satisfied: joblib in c:\\users\\admin1\\appdata\\local\\programs\\anaconda\\lib\\site-packages (from sacremoses->transformers) (0.17.0)\n",
      "Requirement already satisfied: six in c:\\users\\admin1\\appdata\\local\\programs\\anaconda\\lib\\site-packages (from sacremoses->transformers) (1.15.0)\n",
      "Requirement already satisfied: click in c:\\users\\admin1\\appdata\\local\\programs\\anaconda\\lib\\site-packages (from sacremoses->transformers) (7.1.2)\n"
     ]
    },
    {
     "name": "stderr",
     "output_type": "stream",
     "text": [
      "WARNING: Ignoring invalid distribution -pype1 (c:\\users\\admin1\\appdata\\local\\programs\\anaconda\\lib\\site-packages)\n",
      "WARNING: Ignoring invalid distribution -pype1 (c:\\users\\admin1\\appdata\\local\\programs\\anaconda\\lib\\site-packages)\n",
      "WARNING: Ignoring invalid distribution -pype1 (c:\\users\\admin1\\appdata\\local\\programs\\anaconda\\lib\\site-packages)\n",
      "WARNING: Ignoring invalid distribution -pype1 (c:\\users\\admin1\\appdata\\local\\programs\\anaconda\\lib\\site-packages)\n",
      "WARNING: Ignoring invalid distribution -pype1 (c:\\users\\admin1\\appdata\\local\\programs\\anaconda\\lib\\site-packages)\n"
     ]
    },
    {
     "name": "stdout",
     "output_type": "stream",
     "text": [
      "Requirement already satisfied: spacy in c:\\users\\admin1\\appdata\\local\\programs\\anaconda\\lib\\site-packages (3.2.0)\n",
      "Requirement already satisfied: spacy-legacy<3.1.0,>=3.0.8 in c:\\users\\admin1\\appdata\\local\\programs\\anaconda\\lib\\site-packages (from spacy) (3.0.8)\n",
      "Requirement already satisfied: catalogue<2.1.0,>=2.0.6 in c:\\users\\admin1\\appdata\\local\\programs\\anaconda\\lib\\site-packages (from spacy) (2.0.6)\n",
      "Requirement already satisfied: jinja2 in c:\\users\\admin1\\appdata\\local\\programs\\anaconda\\lib\\site-packages (from spacy) (2.11.2)\n",
      "Requirement already satisfied: requests<3.0.0,>=2.13.0 in c:\\users\\admin1\\appdata\\local\\programs\\anaconda\\lib\\site-packages (from spacy) (2.24.0)\n",
      "Requirement already satisfied: setuptools in c:\\users\\admin1\\appdata\\local\\programs\\anaconda\\lib\\site-packages (from spacy) (50.3.1.post20201107)\n",
      "Requirement already satisfied: thinc<8.1.0,>=8.0.12 in c:\\users\\admin1\\appdata\\local\\programs\\anaconda\\lib\\site-packages (from spacy) (8.0.13)\n",
      "Requirement already satisfied: packaging>=20.0 in c:\\users\\admin1\\appdata\\local\\programs\\anaconda\\lib\\site-packages (from spacy) (21.2)\n",
      "Requirement already satisfied: spacy-loggers<2.0.0,>=1.0.0 in c:\\users\\admin1\\appdata\\local\\programs\\anaconda\\lib\\site-packages (from spacy) (1.0.1)\n",
      "Requirement already satisfied: murmurhash<1.1.0,>=0.28.0 in c:\\users\\admin1\\appdata\\local\\programs\\anaconda\\lib\\site-packages (from spacy) (1.0.6)\n",
      "Requirement already satisfied: numpy>=1.15.0 in c:\\users\\admin1\\appdata\\local\\programs\\anaconda\\lib\\site-packages (from spacy) (1.19.2)\n",
      "Requirement already satisfied: blis<0.8.0,>=0.4.0 in c:\\users\\admin1\\appdata\\local\\programs\\anaconda\\lib\\site-packages (from spacy) (0.7.5)\n",
      "Requirement already satisfied: wasabi<1.1.0,>=0.8.1 in c:\\users\\admin1\\appdata\\local\\programs\\anaconda\\lib\\site-packages (from spacy) (0.8.2)\n",
      "Requirement already satisfied: typer<0.5.0,>=0.3.0 in c:\\users\\admin1\\appdata\\local\\programs\\anaconda\\lib\\site-packages (from spacy) (0.4.0)\n",
      "Requirement already satisfied: srsly<3.0.0,>=2.4.1 in c:\\users\\admin1\\appdata\\local\\programs\\anaconda\\lib\\site-packages (from spacy) (2.4.2)\n",
      "Requirement already satisfied: langcodes<4.0.0,>=3.2.0 in c:\\users\\admin1\\appdata\\local\\programs\\anaconda\\lib\\site-packages (from spacy) (3.2.1)\n",
      "Requirement already satisfied: pydantic!=1.8,!=1.8.1,<1.9.0,>=1.7.4 in c:\\users\\admin1\\appdata\\local\\programs\\anaconda\\lib\\site-packages (from spacy) (1.8.2)\n",
      "Requirement already satisfied: pathy>=0.3.5 in c:\\users\\admin1\\appdata\\local\\programs\\anaconda\\lib\\site-packages (from spacy) (0.6.1)\n",
      "Requirement already satisfied: preshed<3.1.0,>=3.0.2 in c:\\users\\admin1\\appdata\\local\\programs\\anaconda\\lib\\site-packages (from spacy) (3.0.6)\n",
      "Requirement already satisfied: cymem<2.1.0,>=2.0.2 in c:\\users\\admin1\\appdata\\local\\programs\\anaconda\\lib\\site-packages (from spacy) (2.0.6)\n",
      "Requirement already satisfied: tqdm<5.0.0,>=4.38.0 in c:\\users\\admin1\\appdata\\local\\programs\\anaconda\\lib\\site-packages (from spacy) (4.62.3)\n",
      "Requirement already satisfied: pyparsing<3,>=2.0.2 in c:\\users\\admin1\\appdata\\local\\programs\\anaconda\\lib\\site-packages (from packaging>=20.0->spacy) (2.4.7)\n",
      "Requirement already satisfied: smart-open<6.0.0,>=5.0.0 in c:\\users\\admin1\\appdata\\local\\programs\\anaconda\\lib\\site-packages (from pathy>=0.3.5->spacy) (5.2.1)\n",
      "Requirement already satisfied: typing-extensions>=3.7.4.3 in c:\\users\\admin1\\appdata\\local\\programs\\anaconda\\lib\\site-packages (from pydantic!=1.8,!=1.8.1,<1.9.0,>=1.7.4->spacy) (3.7.4.3)\n",
      "Requirement already satisfied: urllib3!=1.25.0,!=1.25.1,<1.26,>=1.21.1 in c:\\users\\admin1\\appdata\\local\\programs\\anaconda\\lib\\site-packages (from requests<3.0.0,>=2.13.0->spacy) (1.25.11)\n",
      "Requirement already satisfied: chardet<4,>=3.0.2 in c:\\users\\admin1\\appdata\\local\\programs\\anaconda\\lib\\site-packages (from requests<3.0.0,>=2.13.0->spacy) (3.0.4)\n",
      "Requirement already satisfied: certifi>=2017.4.17 in c:\\users\\admin1\\appdata\\local\\programs\\anaconda\\lib\\site-packages (from requests<3.0.0,>=2.13.0->spacy) (2020.6.20)\n",
      "Requirement already satisfied: idna<3,>=2.5 in c:\\users\\admin1\\appdata\\local\\programs\\anaconda\\lib\\site-packages (from requests<3.0.0,>=2.13.0->spacy) (2.10)\n",
      "Requirement already satisfied: colorama in c:\\users\\admin1\\appdata\\local\\programs\\anaconda\\lib\\site-packages (from tqdm<5.0.0,>=4.38.0->spacy) (0.4.4)\n",
      "Requirement already satisfied: click<9.0.0,>=7.1.1 in c:\\users\\admin1\\appdata\\local\\programs\\anaconda\\lib\\site-packages (from typer<0.5.0,>=0.3.0->spacy) (7.1.2)\n",
      "Requirement already satisfied: MarkupSafe>=0.23 in c:\\users\\admin1\\appdata\\local\\programs\\anaconda\\lib\\site-packages (from jinja2->spacy) (1.1.1)\n"
     ]
    },
    {
     "name": "stderr",
     "output_type": "stream",
     "text": [
      "WARNING: Ignoring invalid distribution -pype1 (c:\\users\\admin1\\appdata\\local\\programs\\anaconda\\lib\\site-packages)\n",
      "WARNING: Ignoring invalid distribution -pype1 (c:\\users\\admin1\\appdata\\local\\programs\\anaconda\\lib\\site-packages)\n",
      "WARNING: Ignoring invalid distribution -pype1 (c:\\users\\admin1\\appdata\\local\\programs\\anaconda\\lib\\site-packages)\n",
      "WARNING: Ignoring invalid distribution -pype1 (c:\\users\\admin1\\appdata\\local\\programs\\anaconda\\lib\\site-packages)\n",
      "WARNING: Ignoring invalid distribution -pype1 (c:\\users\\admin1\\appdata\\local\\programs\\anaconda\\lib\\site-packages)\n"
     ]
    }
   ],
   "source": [
    "!pip install tensorflow\n",
    "!pip install bert-extractive-summarizer\n",
    "!pip install transformers\n",
    "!pip install spacy"
   ]
  },
  {
   "cell_type": "code",
   "execution_count": 16,
   "metadata": {},
   "outputs": [],
   "source": [
    "from summarizer import Summarizer, TransformerSummarizer"
   ]
  },
  {
   "cell_type": "code",
   "execution_count": 44,
   "metadata": {
    "colab": {
     "base_uri": "https://localhost:8080/",
     "height": 35
    },
    "executionInfo": {
     "elapsed": 5,
     "status": "ok",
     "timestamp": 1636255996409,
     "user": {
      "displayName": "‍장윤태(학부학생/이과대학 수학)",
      "photoUrl": "https://lh3.googleusercontent.com/a/default-user=s64",
      "userId": "16992420276818568450"
     },
     "user_tz": -540
    },
    "id": "XE7QRR37bPdi",
    "outputId": "076b4890-b4dc-493d-f16b-8d22f55ee9ec"
   },
   "outputs": [
    {
     "data": {
      "text/plain": [
       "'아동보호 안전한 보호  급식   교육 기능 일상생활지도  학습능력 제고 등   정서적 지원 상담  가족지원   문화서비스 체험활동  공연  등으로 지역사회 내 아동 돌봄에 대한 사전예방적 기능 및 사후연계 제공'"
      ]
     },
     "execution_count": 44,
     "metadata": {},
     "output_type": "execute_result"
    }
   ],
   "source": [
    "test_train = open('test_test.txt', 'r', encoding='CP949')\n",
    "test = test_train.readline()\n",
    "test = test.strip()\n",
    "test"
   ]
  },
  {
   "cell_type": "code",
   "execution_count": 27,
   "metadata": {
    "id": "TDP2USzDalq7"
   },
   "outputs": [
    {
     "name": "stderr",
     "output_type": "stream",
     "text": [
      "Some weights of the model checkpoint at bert-large-uncased were not used when initializing BertModel: ['cls.predictions.decoder.weight', 'cls.predictions.transform.dense.weight', 'cls.seq_relationship.bias', 'cls.predictions.transform.LayerNorm.weight', 'cls.predictions.transform.LayerNorm.bias', 'cls.seq_relationship.weight', 'cls.predictions.transform.dense.bias', 'cls.predictions.bias']\n",
      "- This IS expected if you are initializing BertModel from the checkpoint of a model trained on another task or with another architecture (e.g. initializing a BertForSequenceClassification model from a BertForPreTraining model).\n",
      "- This IS NOT expected if you are initializing BertModel from the checkpoint of a model that you expect to be exactly identical (initializing a BertForSequenceClassification model from a BertForSequenceClassification model).\n"
     ]
    },
    {
     "name": "stdout",
     "output_type": "stream",
     "text": [
      "아동보호 안전한 보호  급식   교육 기능 일상생활지도  학습능력 제고 등   정서적 지원 상담  가족지원   문화서비스 체험활동  공연  등으로 지역사회 내 아동 돌봄에 대한 사전예방적 기능 및 사후연계 제공\n"
     ]
    }
   ],
   "source": [
    "bert_model = Summarizer()\n",
    "bert_summary = ''.join(bert_model(test, min_length=20))\n",
    "print(bert_summary)"
   ]
  },
  {
   "cell_type": "code",
   "execution_count": 45,
   "metadata": {
    "colab": {
     "base_uri": "https://localhost:8080/",
     "height": 204
    },
    "executionInfo": {
     "elapsed": 340,
     "status": "error",
     "timestamp": 1636256013439,
     "user": {
      "displayName": "‍장윤태(학부학생/이과대학 수학)",
      "photoUrl": "https://lh3.googleusercontent.com/a/default-user=s64",
      "userId": "16992420276818568450"
     },
     "user_tz": -540
    },
    "id": "zhgaQttIbG9K",
    "outputId": "f3bfcb49-57ba-4af9-d781-9af685db294d"
   },
   "outputs": [
    {
     "name": "stdout",
     "output_type": "stream",
     "text": [
      "아동보호 안전한 보호  급식   교육 기능 일상생활지도  학습능력 제고 등   정서적 지원 상담  가족지원   문화서비스 체험활동  공연  등으로 지역사회 내 아동 돌봄에 대한 사전예방적 기능 및 사후연계 제공\n"
     ]
    }
   ],
   "source": [
    "GPT2_model = TransformerSummarizer(transformer_type=\"GPT2\",transformer_model_key=\"gpt2-medium\")\n",
    "full = ''.join(GPT2_model(test, min_length=20))\n",
    "print(full)"
   ]
  },
  {
   "cell_type": "code",
   "execution_count": null,
   "metadata": {},
   "outputs": [],
   "source": []
  },
  {
   "cell_type": "markdown",
   "metadata": {},
   "source": [
    "<h1>pipeline function</h1>"
   ]
  },
  {
   "cell_type": "code",
   "execution_count": 1,
   "metadata": {
    "colab": {
     "base_uri": "https://localhost:8080/",
     "height": 327
    },
    "executionInfo": {
     "elapsed": 346,
     "status": "error",
     "timestamp": 1636257806642,
     "user": {
      "displayName": "‍장윤태(학부학생/이과대학 수학)",
      "photoUrl": "https://lh3.googleusercontent.com/a/default-user=s64",
      "userId": "16992420276818568450"
     },
     "user_tz": -540
    },
    "id": "_p0wa6mwaizy",
    "outputId": "7408ad64-efa0-44eb-d17c-6cec39ca1e2c"
   },
   "outputs": [
    {
     "name": "stderr",
     "output_type": "stream",
     "text": [
      "No model was supplied, defaulted to sshleifer/distilbart-cnn-12-6 (https://huggingface.co/sshleifer/distilbart-cnn-12-6)\n"
     ]
    },
    {
     "data": {
      "application/vnd.jupyter.widget-view+json": {
       "model_id": "0ed68dc149e049d2b04f8962c0f8ff71",
       "version_major": 2,
       "version_minor": 0
      },
      "text/plain": [
       "Downloading:   0%|          | 0.00/1.76k [00:00<?, ?B/s]"
      ]
     },
     "metadata": {},
     "output_type": "display_data"
    },
    {
     "data": {
      "application/vnd.jupyter.widget-view+json": {
       "model_id": "8ff66aa878994f73a515094a3321ca4a",
       "version_major": 2,
       "version_minor": 0
      },
      "text/plain": [
       "Downloading:   0%|          | 0.00/1.14G [00:00<?, ?B/s]"
      ]
     },
     "metadata": {},
     "output_type": "display_data"
    },
    {
     "data": {
      "application/vnd.jupyter.widget-view+json": {
       "model_id": "977a7d2f700c44fb855bf354d2129c09",
       "version_major": 2,
       "version_minor": 0
      },
      "text/plain": [
       "Downloading:   0%|          | 0.00/26.0 [00:00<?, ?B/s]"
      ]
     },
     "metadata": {},
     "output_type": "display_data"
    },
    {
     "data": {
      "application/vnd.jupyter.widget-view+json": {
       "model_id": "1997ef49d0e2453b8da238f95e2d0ff4",
       "version_major": 2,
       "version_minor": 0
      },
      "text/plain": [
       "Downloading:   0%|          | 0.00/878k [00:00<?, ?B/s]"
      ]
     },
     "metadata": {},
     "output_type": "display_data"
    },
    {
     "data": {
      "application/vnd.jupyter.widget-view+json": {
       "model_id": "1db3e787dc874d0cbcb279e1a7debf0f",
       "version_major": 2,
       "version_minor": 0
      },
      "text/plain": [
       "Downloading:   0%|          | 0.00/446k [00:00<?, ?B/s]"
      ]
     },
     "metadata": {},
     "output_type": "display_data"
    }
   ],
   "source": [
    "from transformers import pipeline\n",
    "summarizer = pipeline(\"summarization\")"
   ]
  },
  {
   "cell_type": "code",
   "execution_count": 36,
   "metadata": {},
   "outputs": [
    {
     "data": {
      "text/plain": [
       "'아동보호 안전한 보호  급식   교육 기능 일상생활지도  학습능력 제고 등   정서적 지원 상담  가족지원   문화서비스 체험활동  공연  등으로 지역사회 내 아동 돌봄에 대한 사전예방적 기능 및 사후연계 제공'"
      ]
     },
     "execution_count": 36,
     "metadata": {},
     "output_type": "execute_result"
    }
   ],
   "source": [
    "test_test = open('test_test.txt', 'r', encoding='CP949')\n",
    "test = test_test.readline()\n",
    "test = test.strip()\n",
    "test"
   ]
  },
  {
   "cell_type": "code",
   "execution_count": 40,
   "metadata": {},
   "outputs": [
    {
     "name": "stdout",
     "output_type": "stream",
     "text": [
      "[{'summary_text': '   교육  \\xa0굄  활  학습능   일상 \\xa0“”�’s’   ‘‘’’:   보호  ’� –  '}]\n"
     ]
    }
   ],
   "source": [
    "print(summarizer(test, max_length=80, min_length=50, do_sample=False))"
   ]
  },
  {
   "cell_type": "code",
   "execution_count": 42,
   "metadata": {},
   "outputs": [],
   "source": [
    "test = \"\"\"Musk said he would “abide by the results of this poll, whichever way it goes.”\n",
    "\n",
    "The amount of stock in play is valued at about $21 billion, based on his holdings of 170.5 million Tesla shares. The stock, which surged 74% this year to a record on Thursday, closed 0.6% lower at $1,222.09 on Friday.\n",
    "\n",
    "The number of shares Musk could be set to offload based on the Twitter poll is equivalent to 80% of the average daily trading volume for Tesla in the past three months.\n",
    "\n",
    "As of 10:50 p.m. in New York, more than 55% of the 2 million users who had voted supported Musk selling his shares. The poll will end around 3 p.m. on Sunday.\n",
    "\n",
    "Musk, the world’s richest person known for his tongue-in-cheek tweets, cited recent discussion of the wealthy hoarding unrealized gains to avoid paying taxes.'\"\"\""
   ]
  },
  {
   "cell_type": "code",
   "execution_count": 43,
   "metadata": {},
   "outputs": [
    {
     "name": "stdout",
     "output_type": "stream",
     "text": [
      "[{'summary_text': ' Musk said he would “abide by the results of this poll, whichever way it goes” The amount of stock in play is valued at about $21 billion, based on his holdings of 170.5 million Tesla shares . Musk cited recent discussion of the wealthy hoarding unrealized gains to avoid paying taxes .'}]\n"
     ]
    }
   ],
   "source": [
    "print(summarizer(test, max_length=80, min_length=50, do_sample=False))"
   ]
  },
  {
   "cell_type": "code",
   "execution_count": null,
   "metadata": {},
   "outputs": [],
   "source": []
  },
  {
   "cell_type": "markdown",
   "metadata": {},
   "source": [
    "<h1>KoGPT-2</h1>"
   ]
  },
  {
   "cell_type": "code",
   "execution_count": 31,
   "metadata": {},
   "outputs": [
    {
     "data": {
      "application/vnd.jupyter.widget-view+json": {
       "model_id": "563e9c95f5c44d6a8909b7dbd7b6e743",
       "version_major": 2,
       "version_minor": 0
      },
      "text/plain": [
       "Downloading:   0%|          | 0.00/2.69M [00:00<?, ?B/s]"
      ]
     },
     "metadata": {},
     "output_type": "display_data"
    },
    {
     "name": "stderr",
     "output_type": "stream",
     "text": [
      "The tokenizer class you load from this checkpoint is not the same type as the class this function is called from. It may result in unexpected tokenization. \n",
      "The tokenizer class you load from this checkpoint is 'GPT2Tokenizer'. \n",
      "The class this function is called from is 'PreTrainedTokenizerFast'.\n"
     ]
    }
   ],
   "source": [
    "from transformers import PreTrainedTokenizerFast\n",
    "tokenizer = PreTrainedTokenizerFast.from_pretrained(\"skt/kogpt2-base-v2\",\n",
    "                                                    bos_token='</s>', eos_token='</s>', unk_token='<unk>',\n",
    "                                                    pad_token='<pad>', mask_token='<mask>') "
   ]
  },
  {
   "cell_type": "code",
   "execution_count": 33,
   "metadata": {},
   "outputs": [
    {
     "name": "stdout",
     "output_type": "stream",
     "text": [
      "저소득층 난방비 지원 동사무소 신청을 받아 가구당 최대 100만원까지 지원하고 있다.\n",
      "지원 대상은 기초생활수급자, 차상위계층, 한\n"
     ]
    }
   ],
   "source": [
    "import torch\n",
    "from transformers import GPT2LMHeadModel\n",
    "\n",
    "model = GPT2LMHeadModel.from_pretrained('skt/kogpt2-base-v2')\n",
    "text = '저소득층 난방비 지원 동사무소 신청'\n",
    "input_ids = tokenizer.encode(text)\n",
    "gen_ids = model.generate(torch.tensor([input_ids]),\n",
    "                           max_length=30,\n",
    "                           repetition_penalty=2.0,\n",
    "                           pad_token_id=tokenizer.pad_token_id,\n",
    "                           eos_token_id=tokenizer.eos_token_id,\n",
    "                           bos_token_id=tokenizer.bos_token_id,\n",
    "                           use_cache=True)\n",
    "generated = tokenizer.decode(gen_ids[0,:].tolist())\n",
    "print(generated)"
   ]
  },
  {
   "cell_type": "code",
   "execution_count": 34,
   "metadata": {},
   "outputs": [
    {
     "ename": "ValueError",
     "evalue": "Unrecognized configuration class <class 'transformers.models.gpt2.configuration_gpt2.GPT2Config'> for this kind of AutoModel: AutoModelForSeq2SeqLM.\nModel type should be one of BigBirdPegasusConfig, M2M100Config, LEDConfig, BlenderbotSmallConfig, MT5Config, T5Config, PegasusConfig, MarianConfig, MBartConfig, BartConfig, BlenderbotConfig, FSMTConfig, XLMProphetNetConfig, ProphetNetConfig, EncoderDecoderConfig.",
     "output_type": "error",
     "traceback": [
      "\u001b[1;31m---------------------------------------------------------------------------\u001b[0m",
      "\u001b[1;31mValueError\u001b[0m                                Traceback (most recent call last)",
      "\u001b[1;32m<ipython-input-34-97f21990fb96>\u001b[0m in \u001b[0;36m<module>\u001b[1;34m\u001b[0m\n\u001b[0;32m      1\u001b[0m \u001b[1;32mfrom\u001b[0m \u001b[0mtransformers\u001b[0m \u001b[1;32mimport\u001b[0m \u001b[0mAutoModelForSeq2SeqLM\u001b[0m\u001b[1;33m,\u001b[0m \u001b[0mAutoTokenizer\u001b[0m\u001b[1;33m\u001b[0m\u001b[1;33m\u001b[0m\u001b[0m\n\u001b[0;32m      2\u001b[0m \u001b[1;33m\u001b[0m\u001b[0m\n\u001b[1;32m----> 3\u001b[1;33m \u001b[0mmodel\u001b[0m \u001b[1;33m=\u001b[0m \u001b[0mAutoModelForSeq2SeqLM\u001b[0m\u001b[1;33m.\u001b[0m\u001b[0mfrom_pretrained\u001b[0m\u001b[1;33m(\u001b[0m\u001b[1;34m\"skt/kogpt2-base-v2\"\u001b[0m\u001b[1;33m)\u001b[0m\u001b[1;33m\u001b[0m\u001b[1;33m\u001b[0m\u001b[0m\n\u001b[0m\u001b[0;32m      4\u001b[0m \u001b[0mtokenizer\u001b[0m \u001b[1;33m=\u001b[0m \u001b[0mAutoTokenizer\u001b[0m\u001b[1;33m.\u001b[0m\u001b[0mfrom_pretrained\u001b[0m\u001b[1;33m(\u001b[0m\u001b[1;34m\"skt/kogpt2-base-v2\"\u001b[0m\u001b[1;33m)\u001b[0m\u001b[1;33m\u001b[0m\u001b[1;33m\u001b[0m\u001b[0m\n",
      "\u001b[1;32m~\\AppData\\Local\\Programs\\Anaconda\\lib\\site-packages\\transformers\\models\\auto\\auto_factory.py\u001b[0m in \u001b[0;36mfrom_pretrained\u001b[1;34m(cls, pretrained_model_name_or_path, *model_args, **kwargs)\u001b[0m\n\u001b[0;32m    418\u001b[0m             \u001b[0mmodel_class\u001b[0m \u001b[1;33m=\u001b[0m \u001b[0m_get_model_class\u001b[0m\u001b[1;33m(\u001b[0m\u001b[0mconfig\u001b[0m\u001b[1;33m,\u001b[0m \u001b[0mcls\u001b[0m\u001b[1;33m.\u001b[0m\u001b[0m_model_mapping\u001b[0m\u001b[1;33m)\u001b[0m\u001b[1;33m\u001b[0m\u001b[1;33m\u001b[0m\u001b[0m\n\u001b[0;32m    419\u001b[0m             \u001b[1;32mreturn\u001b[0m \u001b[0mmodel_class\u001b[0m\u001b[1;33m.\u001b[0m\u001b[0mfrom_pretrained\u001b[0m\u001b[1;33m(\u001b[0m\u001b[0mpretrained_model_name_or_path\u001b[0m\u001b[1;33m,\u001b[0m \u001b[1;33m*\u001b[0m\u001b[0mmodel_args\u001b[0m\u001b[1;33m,\u001b[0m \u001b[0mconfig\u001b[0m\u001b[1;33m=\u001b[0m\u001b[0mconfig\u001b[0m\u001b[1;33m,\u001b[0m \u001b[1;33m**\u001b[0m\u001b[0mkwargs\u001b[0m\u001b[1;33m)\u001b[0m\u001b[1;33m\u001b[0m\u001b[1;33m\u001b[0m\u001b[0m\n\u001b[1;32m--> 420\u001b[1;33m         raise ValueError(\n\u001b[0m\u001b[0;32m    421\u001b[0m             \u001b[1;34mf\"Unrecognized configuration class {config.__class__} for this kind of AutoModel: {cls.__name__}.\\n\"\u001b[0m\u001b[1;33m\u001b[0m\u001b[1;33m\u001b[0m\u001b[0m\n\u001b[0;32m    422\u001b[0m             \u001b[1;34mf\"Model type should be one of {', '.join(c.__name__ for c in cls._model_mapping.keys())}.\"\u001b[0m\u001b[1;33m\u001b[0m\u001b[1;33m\u001b[0m\u001b[0m\n",
      "\u001b[1;31mValueError\u001b[0m: Unrecognized configuration class <class 'transformers.models.gpt2.configuration_gpt2.GPT2Config'> for this kind of AutoModel: AutoModelForSeq2SeqLM.\nModel type should be one of BigBirdPegasusConfig, M2M100Config, LEDConfig, BlenderbotSmallConfig, MT5Config, T5Config, PegasusConfig, MarianConfig, MBartConfig, BartConfig, BlenderbotConfig, FSMTConfig, XLMProphetNetConfig, ProphetNetConfig, EncoderDecoderConfig."
     ]
    }
   ],
   "source": [
    "from transformers import AutoModelForSeq2SeqLM, AutoTokenizer\n",
    "\n",
    "model = AutoModelForSeq2SeqLM.from_pretrained(\"skt/kogpt2-base-v2\")\n",
    "tokenizer = AutoTokenizer.from_pretrained(\"skt/kogpt2-base-v2\")"
   ]
  },
  {
   "cell_type": "code",
   "execution_count": null,
   "metadata": {},
   "outputs": [],
   "source": []
  }
 ],
 "metadata": {
  "colab": {
   "collapsed_sections": [],
   "name": "GPT-2.ipynb",
   "provenance": []
  },
  "kernelspec": {
   "display_name": "Python 3",
   "language": "python",
   "name": "python3"
  },
  "language_info": {
   "codemirror_mode": {
    "name": "ipython",
    "version": 3
   },
   "file_extension": ".py",
   "mimetype": "text/x-python",
   "name": "python",
   "nbconvert_exporter": "python",
   "pygments_lexer": "ipython3",
   "version": "3.8.5"
  }
 },
 "nbformat": 4,
 "nbformat_minor": 1
}
